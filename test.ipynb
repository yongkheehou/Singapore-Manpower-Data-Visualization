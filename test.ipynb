{
 "cells": [
  {
   "cell_type": "code",
   "execution_count": 12,
   "metadata": {},
   "outputs": [],
   "source": [
    "import json\n",
    "import pandas as pd\n",
    "import urllib.request"
   ]
  },
  {
   "cell_type": "code",
   "execution_count": 13,
   "metadata": {},
   "outputs": [],
   "source": [
    "# print all the tables\n",
    "titles = {\n",
    "    'M182931': 'Average Monthly Nominal Earnings Per Employee, Quarterly',\n",
    "    'M920131': 'Median Gross Monthly Income From Work (Including Employer CPF) Of Full-Time Employed Residents By Occupations And Sex,(June), Annual',\n",
    "    'M182981': 'Gross Monthly Income From Work (Including Employer CPF) Of Full-Time Employed Residents, Annual',\n",
    "    'M183131': 'Changes In Employment By Sector, (Compared To The Previous Period), Quarterly',\n",
    "    'M182342': 'Unemployment Rate (End Of Period), Quarterly, Seasonally Adjusted',\n",
    "    'M015701': 'Changes In Value Added Per Worker In Chained (2015) Dollars, By Industry (SSIC 2020), Quarterly',\n",
    "    'M183742': 'Unit Labour Cost Index (2015 = 100), Quarterly, Seasonally Adjusted',\n",
    "    'M182331': 'Labour Force Aged 15 Years And Over, End June, Annual',\n",
    "    'M920151': 'Number Of Part-Time Employed Residents By Sex, (June), Annual',\n",
    "    'M920141': 'Number Of Full-Time Employed Residents By Sex, (June), Annual',\n",
    "    'M920161': 'Number Of Employers By Sex, (June), Annual',\n",
    "    'M181641': 'Labour Market Statistics (End Of Period), Quarterly'\n",
    "    }\n",
    "urlData = {\n",
    "    'M182931': 'https://tablebuilder.singstat.gov.sg/api/table/tabledata/M182931?isTestApi=true',\n",
    "    'M920131': 'https://tablebuilder.singstat.gov.sg/api/table/tabledata/M920131?isTestApi=true',\n",
    "    'M182981': 'https://tablebuilder.singstat.gov.sg/api/table/tabledata/M182981?isTestApi=true',\n",
    "    'M183131': 'https://tablebuilder.singstat.gov.sg/api/table/tabledata/M183131?isTestApi=true',\n",
    "    'M182342': 'https://tablebuilder.singstat.gov.sg/api/table/tabledata/M182342?isTestApi=true',\n",
    "    'M015701': 'https://tablebuilder.singstat.gov.sg/api/table/tabledata/M015701?isTestApi=true',\n",
    "    'M183742': 'https://tablebuilder.singstat.gov.sg/api/table/tabledata/M183742?isTestApi=true',\n",
    "    'M182331': 'https://tablebuilder.singstat.gov.sg/api/table/tabledata/M182331?isTestApi=true',\n",
    "    'M920151': 'https://tablebuilder.singstat.gov.sg/api/table/tabledata/M920151?isTestApi=true',\n",
    "    'M920141': 'https://tablebuilder.singstat.gov.sg/api/table/tabledata/M920141?isTestApi=true',\n",
    "    'M920161': 'https://tablebuilder.singstat.gov.sg/api/table/tabledata/M920161?isTestApi=true',\n",
    "    'M181641': 'https://tablebuilder.singstat.gov.sg/api/table/tabledata/M181641?isTestApi=true'\n",
    "    }\n",
    "tables = {}"
   ]
  },
  {
   "cell_type": "code",
   "execution_count": 14,
   "metadata": {},
   "outputs": [
    {
     "name": "stdout",
     "output_type": "stream",
     "text": [
      "Title: Average Monthly Nominal Earnings Per Employee, Quarterly\n",
      "\n",
      "        key value\n",
      "0   2001 2Q  2919\n",
      "1   2001 3Q  2963\n",
      "2   2001 4Q  3463\n",
      "3   2002 1Q  3206\n",
      "4   2002 2Q  2931\n",
      "..      ...   ...\n",
      "80  2021 2Q  5474\n",
      "81  2021 3Q  5412\n",
      "82  2021 4Q  6282\n",
      "83  2022 1Q  6641\n",
      "84  2022 2Q  5847\n",
      "\n",
      "[85 rows x 2 columns]\n",
      "\n",
      "Footnote:\n",
      "1) Average (mean) monthly earnings refer to all remuneration received before deduction of the employee Central Provident Fund (CPF) contributions and personal income tax.  It comprises basic wages, overtime pay, commissions, allowances and bonuses but exclude employer CPF contributions.  2) Data cover full-time and part-time employees who have CPF contributions.  They exclude identifiable self employed persons who have made CPF contribution.  3) For details of data limitation, please refer to note 3 of Table B.9 in the Singapore Yearbook of Manpower Statistics, 2016 (http://stats.mom.gov.sg/iMAS_Tables/YearBook/YearBook_2016/mrsd_2016YearBook_WtableB_9.xlsx)\n",
      "\n",
      "Data Last Updated: 30/08/2022\n",
      "\n",
      "\n",
      "\n",
      "\n",
      "\n",
      "Title: Median Gross Monthly Income From Work (Including Employer CPF) Of Full-Time Employed Residents By Occupations And Sex,(June), Annual\n",
      "\n",
      "     key    value\n",
      "0   2001   4930.0\n",
      "1   2002   5000.0\n",
      "2   2003   5000.0\n",
      "3   2004   4896.0\n",
      "4   2007   5400.0\n",
      "5   2008   6000.0\n",
      "6   2009   5934.0\n",
      "7   2010   6081.0\n",
      "8   2011   7000.0\n",
      "9   2012   7500.0\n",
      "10  2013   8192.0\n",
      "11  2014   9000.0\n",
      "12  2015   9025.0\n",
      "13  2016   9304.0\n",
      "14  2017   9556.0\n",
      "15  2018  10146.0\n",
      "16  2019  10190.0\n",
      "17  2020  10075.0\n",
      "\n",
      "Footnote:\n",
      "1. Data are from Comprehensive Labour Force Survey. 2. Residents refer to Singapore Citizens and Permanent Residents. 3. Data exclude Full-Time National Servicemen. 4. Before 2009, full-time employment refers to employment where the normal hours of work is 30 hours or more in a week. From 2009 onwards, full-time employment refers to employment where the normal hours of work is 35 hours or more in a week. 5. Data are classified based on Singapore Standard Occupation Classification (SSOC) 2020. Data for past years which were coded based on earlier versions of the SSOC were mapped to SSOC 2020 as far as possible to facilitate data comparability. Data are not available for 2006 as the level of occupational detail collected in 2006 did not support mapping. 6. Gross Monthly Income From Work refers to income earned from employment. For employees, it refers to the gross monthly wages or salaries before deduction of employee CPF contribution and personal income tax. It comprises basic wages, overtime pay, commissions, tips, other allowance and one-twelfth of annual bonuses. For self-employed persons, gross monthly income refers to the average monthly profits from their business, trade or profession (i.e. total receipts less business expenses incurred) before deduction of income tax. 7. As data are captured from a sample survey, year-on-year income changes are prone to fluctuations and hence should always be interpreted with caution. Income growth studied over longer periods (e.g. 5 to 10 years) smooths out these fluctuations and hence provides a more direct indication of income growth. 8. Data for 2005 are not available as the Comprehensive Labour Force Survey was not conducted due to the conduct of the General Household Survey 2005 by the Singapore Department of Statistics. 9. June 2007 data have been adjusted based on latest revised population estimates from DOS to facilitate comparisons with June 2008 onwards.\n",
      "\n",
      "Data Last Updated: 21/02/2022\n",
      "\n",
      "\n",
      "\n",
      "\n",
      "\n",
      "Title: Gross Monthly Income From Work (Including Employer CPF) Of Full-Time Employed Residents, Annual\n",
      "\n",
      "     key value\n",
      "0   2001  2387\n",
      "1   2002  2380\n",
      "2   2003  2410\n",
      "3   2004  2326\n",
      "4   2006  2449\n",
      "5   2007  2543\n",
      "6   2008  2897\n",
      "7   2009  2927\n",
      "8   2010  3000\n",
      "9   2011  3249\n",
      "10  2012  3480\n",
      "11  2013  3705\n",
      "12  2014  3770\n",
      "13  2015  3949\n",
      "14  2016  4056\n",
      "15  2017  4232\n",
      "16  2018  4437\n",
      "17  2019  4563\n",
      "18  2020  4534\n",
      "19  2021  4680\n",
      "\n",
      "Footnote:\n",
      "Data are for mid-year. As the income data are captured from a sample survey, the income changes for the 20th percentile nearer the end of the income spectrum tend to be more volatile over shorter (e.g. year-on-year) than longer periods (e.g. 5 or 10 years). Gross monthly income from work refers to income earned from employment. For employees, it refers to the gross monthly wages or salaries before deduction of employee CPF contributions and personal income tax. It comprises basic wages, overtime pay, commissions, tips, other allowances and one-twelfth of annual bonuses. For self-employed persons, gross monthly income refers to the average monthly profits from their business, trade or profession (i.e. total receipts less business expenses incurred) before deduction of income tax. Data exclude full-time national servicemen. Residents refer to Singapore citizens and permanent residents. Before 2009, full-time employment refers to employment where the normal hours of work is 30 hours or more in a week. From 2009 onwards, full-time employment refers to employment where the normal hours of work is 35 hours or more in a week. Data for 2000 and 2005 are not available as the comprehensive Labour Force Survey was not conducted in these years due to the conduct of the Census and General Household Survey by Department of Statistics, Ministry of Trade and Industry.\n",
      "\n",
      "Data Last Updated: 29/03/2022\n",
      "\n",
      "\n",
      "\n",
      "\n",
      "\n",
      "Title: Changes In Employment By Sector, (Compared To The Previous Period), Quarterly\n",
      "\n",
      "         key   value\n",
      "0    1991 1Q    8500\n",
      "1    1991 2Q   15800\n",
      "2    1991 3Q   15500\n",
      "3    1991 4Q   12600\n",
      "4    1992 1Q   15900\n",
      "..       ...     ...\n",
      "121  2021 2Q  -19900\n",
      "122  2021 3Q   -8400\n",
      "123  2021 4Q   54600\n",
      "124  2022 1Q   47400\n",
      "125  2022 2Q   71100\n",
      "\n",
      "[126 rows x 2 columns]\n",
      "\n",
      "Footnote:\n",
      "Employment change refers to the change in the number of persons who are in employment, derived by taking the difference in the employment level at the end of the reference period compared with the end of the preceding period.  A positive change refers to the additional number of persons who are in employment, while a negative change refers to the decline in number of persons in employment.  Data may not add up to the total due to rounding.  The industries are classified based on SSIC 2015 from 2009 onwards and SSIC 2005 from 2002 to 2008.  Data for 2009 and 2010 are revised at the industry level to reflect updates in pre-approved Letter of Consent (PLOC) numbers.  Data for the earlier years will be revised progressively when the data are available.\n",
      "\n",
      "Data Last Updated: 14/09/2022\n",
      "\n",
      "\n",
      "\n",
      "\n",
      "\n",
      "Title: Unemployment Rate (End Of Period), Quarterly, Seasonally Adjusted\n",
      "\n",
      "         key value\n",
      "0    1992 1Q   1.8\n",
      "1    1992 2Q   1.8\n",
      "2    1992 3Q     2\n",
      "3    1992 4Q   1.6\n",
      "4    1993 1Q   1.5\n",
      "..       ...   ...\n",
      "117  2021 2Q   2.7\n",
      "118  2021 3Q   2.6\n",
      "119  2021 4Q   2.4\n",
      "120  2022 1Q   2.2\n",
      "121  2022 2Q   2.1\n",
      "\n",
      "[122 rows x 2 columns]\n",
      "\n",
      "Footnote:\n",
      "Total population comprises residents and non residents.  Residents refer to Singapore citizens and permanent residents.  Data for June 1995, 2000 and 2005 were obtained from the General Household Survey (June 1995 and 2005) and Population Census (June 2000) conducted by the Singapore Department of Statistics, Ministry of Trade and Industry.  The Labour Force Survey was not conducted in these periods.\n",
      "\n",
      "Data Last Updated: 14/09/2022\n",
      "\n",
      "\n",
      "\n",
      "\n",
      "\n",
      "Title: Changes In Value Added Per Worker In Chained (2015) Dollars, By Industry (SSIC 2020), Quarterly\n",
      "\n",
      "         key value\n",
      "0    1992 1Q   1.6\n",
      "1    1992 2Q   1.9\n",
      "2    1992 3Q   3.7\n",
      "3    1992 4Q   5.9\n",
      "4    1993 1Q   6.2\n",
      "..       ...   ...\n",
      "117  2021 2Q  17.9\n",
      "118  2021 3Q   8.7\n",
      "119  2021 4Q   5.8\n",
      "120  2022 1Q   2.2\n",
      "121  2022 2Q   0.8\n",
      "\n",
      "[122 rows x 2 columns]\n",
      "\n",
      "Footnote:\n",
      "\n",
      "\n",
      "Data Last Updated: 11/08/2022\n",
      "\n",
      "\n",
      "\n",
      "\n",
      "\n",
      "Title: Unit Labour Cost Index (2015 = 100), Quarterly, Seasonally Adjusted\n",
      "\n",
      "         key  value\n",
      "0    1980 1Q   54.1\n",
      "1    1980 2Q   55.3\n",
      "2    1980 3Q     56\n",
      "3    1980 4Q   56.4\n",
      "4    1981 1Q   58.7\n",
      "..       ...    ...\n",
      "165  2021 2Q   96.5\n",
      "166  2021 3Q     98\n",
      "167  2021 4Q   98.4\n",
      "168  2022 1Q    101\n",
      "169  2022 2Q  105.1\n",
      "\n",
      "[170 rows x 2 columns]\n",
      "\n",
      "Footnote:\n",
      "The industries are classified according to SSIC 2020.\n",
      "\n",
      "Data Last Updated: 11/08/2022\n",
      "\n",
      "\n",
      "\n",
      "\n",
      "\n",
      "Title: Labour Force Aged 15 Years And Over, End June, Annual\n",
      "\n",
      "     key   value\n",
      "0   1970   701.7\n",
      "1   1971       -\n",
      "2   1972       -\n",
      "3   1973       -\n",
      "4   1974       -\n",
      "5   1975       -\n",
      "6   1976       -\n",
      "7   1977       -\n",
      "8   1978       -\n",
      "9   1979       -\n",
      "10  1980  1112.1\n",
      "11  1981       -\n",
      "12  1982       -\n",
      "13  1983       -\n",
      "14  1984       -\n",
      "15  1985       -\n",
      "16  1986       -\n",
      "17  1987       -\n",
      "18  1988       -\n",
      "19  1989       -\n",
      "20  1990  1562.8\n",
      "21  1991  1673.7\n",
      "22  1992  1733.6\n",
      "23  1993  1762.7\n",
      "24  1994  1842.2\n",
      "25  1995  1749.3\n",
      "26  1996  2024.9\n",
      "27  1997    2116\n",
      "28  1998  2187.9\n",
      "29  1999  2208.7\n",
      "30  2000  2192.3\n",
      "31  2001  2330.5\n",
      "32  2002  2320.6\n",
      "33  2003  2312.3\n",
      "34  2004  2341.9\n",
      "35  2005  2367.3\n",
      "36  2006  2594.1\n",
      "37  2007  2710.3\n",
      "38  2008  2939.9\n",
      "39  2009    3030\n",
      "40  2010  3135.9\n",
      "41  2011  3237.1\n",
      "42  2012  3361.8\n",
      "43  2013  3443.7\n",
      "44  2014  3530.8\n",
      "45  2015  3610.6\n",
      "46  2016  3672.8\n",
      "47  2017    3657\n",
      "48  2018  3675.6\n",
      "49  2019  3742.5\n",
      "50  2020  3713.9\n",
      "51  2021  3607.6\n",
      "\n",
      "Footnote:\n",
      "Total population comprises residents and non residents.  Residents comprise Singapore citizens and permanent residents.  Data is based on mid-year Labour Force Survey except Census years 1970, 1980, 1990, 2000 and General Household Surveys 1995 & 2005.  Data exclude construction workers living at worksites and workers who commute daily from abroad to work in Singapore, except for Census years and General Household Survey 2005.  To facilitate comparison with 2008, 2007 Labour Force Survey data have been adjusted based on Singapore Department of Statistics' revised population estimates (released in February 2008) which exclude Singapore residents who have been away from Singapore for a continuous period of 12 months or longer. \n",
      "\n",
      "Data Last Updated: 29/07/2022\n",
      "\n",
      "\n",
      "\n",
      "\n",
      "\n",
      "Title: Number Of Part-Time Employed Residents By Sex, (June), Annual\n",
      "\n",
      "     key  value\n",
      "0   2009  156.2\n",
      "1   2010  176.7\n",
      "2   2011  194.7\n",
      "3   2012  196.8\n",
      "4   2013  205.0\n",
      "5   2014  220.2\n",
      "6   2015  223.1\n",
      "7   2016  228.0\n",
      "8   2017  230.6\n",
      "9   2018  240.5\n",
      "10  2019  250.4\n",
      "11  2020  234.6\n",
      "\n",
      "Footnote:\n",
      "1. Data are from Comprehensive Labour Force Survey. 2. Residents refer to Singapore Citizens and Permanent Residents. 3. Part-time employment refers to employment where the normal hours of work is less than 35 hours in a week.\n",
      "\n",
      "Data Last Updated: 21/02/2022\n",
      "\n",
      "\n",
      "\n",
      "\n",
      "\n",
      "Title: Number Of Full-Time Employed Residents By Sex, (June), Annual\n",
      "\n",
      "     key   value\n",
      "0   2009  1713.2\n",
      "1   2010  1786.2\n",
      "2   2011  1804.2\n",
      "3   2012  1843.8\n",
      "4   2013  1851.2\n",
      "5   2014  1883.3\n",
      "6   2015  1924.7\n",
      "7   2016  1937.3\n",
      "8   2017  1944.7\n",
      "9   2018  1963.1\n",
      "10  2019  1980.1\n",
      "11  2020  1988.0\n",
      "\n",
      "Footnote:\n",
      "1. Data are from Comprehensive Labour Force Survey. 2. Residents refer to Singapore Citizens and Permanent Residents. 3. Full-time employment refers to employment where the normal hours of work is 35 hours or more in a week.\n",
      "\n",
      "Data Last Updated: 21/02/2022\n",
      "\n",
      "\n",
      "\n",
      "\n",
      "\n",
      "Title: Number Of Employers By Sex, (June), Annual\n",
      "\n",
      "     key  value\n",
      "0   1991   75.1\n",
      "1   1992   86.3\n",
      "2   1993   87.8\n",
      "3   1994   87.3\n",
      "4   1996   87.5\n",
      "5   1997   86.0\n",
      "6   1998   77.8\n",
      "7   1999   92.3\n",
      "8   2001   81.8\n",
      "9   2002   81.9\n",
      "10  2003   83.9\n",
      "11  2004   88.4\n",
      "12  2006   91.4\n",
      "13  2007   92.0\n",
      "14  2008   94.4\n",
      "15  2009   91.9\n",
      "16  2010  104.4\n",
      "17  2011  108.2\n",
      "18  2012  123.3\n",
      "19  2013  128.7\n",
      "20  2014  112.2\n",
      "21  2015  122.8\n",
      "22  2016  115.3\n",
      "23  2017  105.5\n",
      "24  2018   96.1\n",
      "25  2019   95.0\n",
      "26  2020   97.6\n",
      "\n",
      "Footnote:\n",
      "1. Data are from Comprehensive Labour Force Survey. 2. Residents refer to Singapore Citizens and Permanent Residents. 3. Employers refer to persons who employ at least one paid employee in their business or trade. 4. Data for 1995, 2000 and 2005 are not available as the Comprehensive Labour Force Survey was not conducted in these years due to the conduct of the Census and General Household Survey by the Singapore Department of Statistics. 5. June 2007 data have been adjusted based on latest revised population estimates from DOS to facilitate comparisons with June 2008 onwards.\n",
      "\n",
      "Data Last Updated: 21/02/2022\n",
      "\n",
      "\n",
      "\n",
      "\n",
      "\n",
      "Title: Labour Market Statistics (End Of Period), Quarterly\n",
      "\n",
      "         key value\n",
      "0    1992 1Q  30.9\n",
      "1    1992 2Q  29.7\n",
      "2    1992 3Q  34.6\n",
      "3    1992 4Q  27.7\n",
      "4    1993 1Q  26.3\n",
      "..       ...   ...\n",
      "117  2021 2Q  84.8\n",
      "118  2021 3Q  82.7\n",
      "119  2021 4Q  76.3\n",
      "120  2022 1Q  73.9\n",
      "121  2022 2Q  69.3\n",
      "\n",
      "[122 rows x 2 columns]\n",
      "\n",
      "Footnote:\n",
      "\n",
      "\n",
      "Data Last Updated: 14/09/2022\n",
      "\n",
      "\n",
      "\n",
      "\n",
      "\n"
     ]
    }
   ],
   "source": [
    "for item in urlData.items():\n",
    "    webURL = urllib.request.urlopen(item[1])\n",
    "    data = webURL.read()\n",
    "\n",
    "    df = json.loads(data)\n",
    "    df_converted = pd.json_normalize(df['Data']['row'][0]['columns'])\n",
    "    tables[item[0]] = df_converted\n",
    "\n",
    "    # title\n",
    "    print('Title: ' + df['Data']['title'] + '\\n')\n",
    "    # df\n",
    "    print(df_converted)\n",
    "    # footnote\n",
    "    print('\\nFootnote:\\n' + df['Data']['footnote'])\n",
    "    # data last updated \n",
    "    print('\\nData Last Updated: ' + df['Data']['dataLastUpdated'] + '\\n\\n\\n\\n\\n')"
   ]
  },
  {
   "cell_type": "code",
   "execution_count": 15,
   "metadata": {},
   "outputs": [
    {
     "data": {
      "application/vnd.plotly.v1+json": {
       "config": {
        "plotlyServerURL": "https://plot.ly"
       },
       "data": [
        {
         "mode": "lines+markers",
         "name": "Average Monthly Nominal Earnings Per Employee, Quarterly",
         "type": "scatter",
         "x": [
          "2001 2Q",
          "2001 3Q",
          "2001 4Q",
          "2002 1Q",
          "2002 2Q",
          "2002 3Q",
          "2002 4Q",
          "2003 1Q",
          "2003 2Q",
          "2003 3Q",
          "2003 4Q",
          "2004 1Q",
          "2004 2Q",
          "2004 3Q",
          "2004 4Q",
          "2005 1Q",
          "2005 2Q",
          "2005 3Q",
          "2005 4Q",
          "2006 1Q",
          "2006 2Q",
          "2006 3Q",
          "2006 4Q",
          "2007 1Q",
          "2007 2Q",
          "2007 3Q",
          "2007 4Q",
          "2008 1Q",
          "2008 2Q",
          "2008 3Q",
          "2008 4Q",
          "2009 1Q",
          "2009 2Q",
          "2009 3Q",
          "2009 4Q",
          "2010 1Q",
          "2010 2Q",
          "2010 3Q",
          "2010 4Q",
          "2011 1Q",
          "2011 2Q",
          "2011 3Q",
          "2011 4Q",
          "2012 1Q",
          "2012 2Q",
          "2012 3Q",
          "2012 4Q",
          "2013 1Q",
          "2013 2Q",
          "2013 3Q",
          "2013 4Q",
          "2014 1Q",
          "2014 2Q",
          "2014 3Q",
          "2014 4Q",
          "2015 1Q",
          "2015 2Q",
          "2015 3Q",
          "2015 4Q",
          "2016 1Q",
          "2016 2Q",
          "2016 3Q",
          "2016 4Q",
          "2017 1Q",
          "2017 2Q",
          "2017 3Q",
          "2017 4Q",
          "2018 1Q",
          "2018 2Q",
          "2018 3Q",
          "2018 4Q",
          "2019 1Q",
          "2019 2Q",
          "2019 3Q",
          "2019 4Q",
          "2020 1Q",
          "2020 2Q",
          "2020 3Q",
          "2020 4Q",
          "2021 1Q",
          "2021 2Q",
          "2021 3Q",
          "2021 4Q",
          "2022 1Q",
          "2022 2Q"
         ],
         "xaxis": "x",
         "y": [
          "2919",
          "2963",
          "3463",
          "3206",
          "2931",
          "2949",
          "3548",
          "3283",
          "2975",
          "2988",
          "3605",
          "3428",
          "3097",
          "3030",
          "3762",
          "3592",
          "3175",
          "3166",
          "3843",
          "3700",
          "3297",
          "3256",
          "3961",
          "3903",
          "3578",
          "3481",
          "4130",
          "4316",
          "3690",
          "3674",
          "4229",
          "4155",
          "3609",
          "3562",
          "4160",
          "4310",
          "3819",
          "3754",
          "4474",
          "4677",
          "4048",
          "3956",
          "4655",
          "4717",
          "4162",
          "4078",
          "4773",
          "4948",
          "4329",
          "4212",
          "4998",
          "5108",
          "4445",
          "4314",
          "5040",
          "5259",
          "4611",
          "4493",
          "5205",
          "5483",
          "4789",
          "4646",
          "5379",
          "5586",
          "4939",
          "4795",
          "5596",
          "5808",
          "5119",
          "4962",
          "5752",
          "6005",
          "5225",
          "5183",
          "5783",
          "6148",
          "5276",
          "5214",
          "5877",
          "6159",
          "5474",
          "5412",
          "6282",
          "6641",
          "5847"
         ],
         "yaxis": "y"
        },
        {
         "mode": "lines+markers",
         "name": "Median Gross Monthly Income From Work (Including Employer CPF) Of Full-Time Employed Residents By Occupations And Sex,(June), Annual",
         "type": "scatter",
         "x": [
          "2001",
          "2002",
          "2003",
          "2004",
          "2007",
          "2008",
          "2009",
          "2010",
          "2011",
          "2012",
          "2013",
          "2014",
          "2015",
          "2016",
          "2017",
          "2018",
          "2019",
          "2020"
         ],
         "xaxis": "x2",
         "y": [
          "4930.0",
          "5000.0",
          "5000.0",
          "4896.0",
          "5400.0",
          "6000.0",
          "5934.0",
          "6081.0",
          "7000.0",
          "7500.0",
          "8192.0",
          "9000.0",
          "9025.0",
          "9304.0",
          "9556.0",
          "10146.0",
          "10190.0",
          "10075.0"
         ],
         "yaxis": "y2"
        },
        {
         "mode": "lines+markers",
         "name": "Gross Monthly Income From Work (Including Employer CPF) Of Full-Time Employed Residents, Annual",
         "type": "scatter",
         "x": [
          "2001",
          "2002",
          "2003",
          "2004",
          "2006",
          "2007",
          "2008",
          "2009",
          "2010",
          "2011",
          "2012",
          "2013",
          "2014",
          "2015",
          "2016",
          "2017",
          "2018",
          "2019",
          "2020",
          "2021"
         ],
         "xaxis": "x3",
         "y": [
          "2387",
          "2380",
          "2410",
          "2326",
          "2449",
          "2543",
          "2897",
          "2927",
          "3000",
          "3249",
          "3480",
          "3705",
          "3770",
          "3949",
          "4056",
          "4232",
          "4437",
          "4563",
          "4534",
          "4680"
         ],
         "yaxis": "y3"
        }
       ],
       "layout": {
        "autosize": true,
        "autotypenumbers": "convert types",
        "height": 900,
        "legend": {
         "orientation": "h",
         "x": 0.8,
         "xanchor": "right",
         "y": 1,
         "yanchor": "bottom"
        },
        "margin": {
         "b": 20,
         "l": 20,
         "r": 20,
         "t": 150
        },
        "template": {
         "data": {
          "bar": [
           {
            "error_x": {
             "color": "#2a3f5f"
            },
            "error_y": {
             "color": "#2a3f5f"
            },
            "marker": {
             "line": {
              "color": "#E5ECF6",
              "width": 0.5
             },
             "pattern": {
              "fillmode": "overlay",
              "size": 10,
              "solidity": 0.2
             }
            },
            "type": "bar"
           }
          ],
          "barpolar": [
           {
            "marker": {
             "line": {
              "color": "#E5ECF6",
              "width": 0.5
             },
             "pattern": {
              "fillmode": "overlay",
              "size": 10,
              "solidity": 0.2
             }
            },
            "type": "barpolar"
           }
          ],
          "carpet": [
           {
            "aaxis": {
             "endlinecolor": "#2a3f5f",
             "gridcolor": "white",
             "linecolor": "white",
             "minorgridcolor": "white",
             "startlinecolor": "#2a3f5f"
            },
            "baxis": {
             "endlinecolor": "#2a3f5f",
             "gridcolor": "white",
             "linecolor": "white",
             "minorgridcolor": "white",
             "startlinecolor": "#2a3f5f"
            },
            "type": "carpet"
           }
          ],
          "choropleth": [
           {
            "colorbar": {
             "outlinewidth": 0,
             "ticks": ""
            },
            "type": "choropleth"
           }
          ],
          "contour": [
           {
            "colorbar": {
             "outlinewidth": 0,
             "ticks": ""
            },
            "colorscale": [
             [
              0,
              "#0d0887"
             ],
             [
              0.1111111111111111,
              "#46039f"
             ],
             [
              0.2222222222222222,
              "#7201a8"
             ],
             [
              0.3333333333333333,
              "#9c179e"
             ],
             [
              0.4444444444444444,
              "#bd3786"
             ],
             [
              0.5555555555555556,
              "#d8576b"
             ],
             [
              0.6666666666666666,
              "#ed7953"
             ],
             [
              0.7777777777777778,
              "#fb9f3a"
             ],
             [
              0.8888888888888888,
              "#fdca26"
             ],
             [
              1,
              "#f0f921"
             ]
            ],
            "type": "contour"
           }
          ],
          "contourcarpet": [
           {
            "colorbar": {
             "outlinewidth": 0,
             "ticks": ""
            },
            "type": "contourcarpet"
           }
          ],
          "heatmap": [
           {
            "colorbar": {
             "outlinewidth": 0,
             "ticks": ""
            },
            "colorscale": [
             [
              0,
              "#0d0887"
             ],
             [
              0.1111111111111111,
              "#46039f"
             ],
             [
              0.2222222222222222,
              "#7201a8"
             ],
             [
              0.3333333333333333,
              "#9c179e"
             ],
             [
              0.4444444444444444,
              "#bd3786"
             ],
             [
              0.5555555555555556,
              "#d8576b"
             ],
             [
              0.6666666666666666,
              "#ed7953"
             ],
             [
              0.7777777777777778,
              "#fb9f3a"
             ],
             [
              0.8888888888888888,
              "#fdca26"
             ],
             [
              1,
              "#f0f921"
             ]
            ],
            "type": "heatmap"
           }
          ],
          "heatmapgl": [
           {
            "colorbar": {
             "outlinewidth": 0,
             "ticks": ""
            },
            "colorscale": [
             [
              0,
              "#0d0887"
             ],
             [
              0.1111111111111111,
              "#46039f"
             ],
             [
              0.2222222222222222,
              "#7201a8"
             ],
             [
              0.3333333333333333,
              "#9c179e"
             ],
             [
              0.4444444444444444,
              "#bd3786"
             ],
             [
              0.5555555555555556,
              "#d8576b"
             ],
             [
              0.6666666666666666,
              "#ed7953"
             ],
             [
              0.7777777777777778,
              "#fb9f3a"
             ],
             [
              0.8888888888888888,
              "#fdca26"
             ],
             [
              1,
              "#f0f921"
             ]
            ],
            "type": "heatmapgl"
           }
          ],
          "histogram": [
           {
            "marker": {
             "pattern": {
              "fillmode": "overlay",
              "size": 10,
              "solidity": 0.2
             }
            },
            "type": "histogram"
           }
          ],
          "histogram2d": [
           {
            "colorbar": {
             "outlinewidth": 0,
             "ticks": ""
            },
            "colorscale": [
             [
              0,
              "#0d0887"
             ],
             [
              0.1111111111111111,
              "#46039f"
             ],
             [
              0.2222222222222222,
              "#7201a8"
             ],
             [
              0.3333333333333333,
              "#9c179e"
             ],
             [
              0.4444444444444444,
              "#bd3786"
             ],
             [
              0.5555555555555556,
              "#d8576b"
             ],
             [
              0.6666666666666666,
              "#ed7953"
             ],
             [
              0.7777777777777778,
              "#fb9f3a"
             ],
             [
              0.8888888888888888,
              "#fdca26"
             ],
             [
              1,
              "#f0f921"
             ]
            ],
            "type": "histogram2d"
           }
          ],
          "histogram2dcontour": [
           {
            "colorbar": {
             "outlinewidth": 0,
             "ticks": ""
            },
            "colorscale": [
             [
              0,
              "#0d0887"
             ],
             [
              0.1111111111111111,
              "#46039f"
             ],
             [
              0.2222222222222222,
              "#7201a8"
             ],
             [
              0.3333333333333333,
              "#9c179e"
             ],
             [
              0.4444444444444444,
              "#bd3786"
             ],
             [
              0.5555555555555556,
              "#d8576b"
             ],
             [
              0.6666666666666666,
              "#ed7953"
             ],
             [
              0.7777777777777778,
              "#fb9f3a"
             ],
             [
              0.8888888888888888,
              "#fdca26"
             ],
             [
              1,
              "#f0f921"
             ]
            ],
            "type": "histogram2dcontour"
           }
          ],
          "mesh3d": [
           {
            "colorbar": {
             "outlinewidth": 0,
             "ticks": ""
            },
            "type": "mesh3d"
           }
          ],
          "parcoords": [
           {
            "line": {
             "colorbar": {
              "outlinewidth": 0,
              "ticks": ""
             }
            },
            "type": "parcoords"
           }
          ],
          "pie": [
           {
            "automargin": true,
            "type": "pie"
           }
          ],
          "scatter": [
           {
            "marker": {
             "colorbar": {
              "outlinewidth": 0,
              "ticks": ""
             }
            },
            "type": "scatter"
           }
          ],
          "scatter3d": [
           {
            "line": {
             "colorbar": {
              "outlinewidth": 0,
              "ticks": ""
             }
            },
            "marker": {
             "colorbar": {
              "outlinewidth": 0,
              "ticks": ""
             }
            },
            "type": "scatter3d"
           }
          ],
          "scattercarpet": [
           {
            "marker": {
             "colorbar": {
              "outlinewidth": 0,
              "ticks": ""
             }
            },
            "type": "scattercarpet"
           }
          ],
          "scattergeo": [
           {
            "marker": {
             "colorbar": {
              "outlinewidth": 0,
              "ticks": ""
             }
            },
            "type": "scattergeo"
           }
          ],
          "scattergl": [
           {
            "marker": {
             "colorbar": {
              "outlinewidth": 0,
              "ticks": ""
             }
            },
            "type": "scattergl"
           }
          ],
          "scattermapbox": [
           {
            "marker": {
             "colorbar": {
              "outlinewidth": 0,
              "ticks": ""
             }
            },
            "type": "scattermapbox"
           }
          ],
          "scatterpolar": [
           {
            "marker": {
             "colorbar": {
              "outlinewidth": 0,
              "ticks": ""
             }
            },
            "type": "scatterpolar"
           }
          ],
          "scatterpolargl": [
           {
            "marker": {
             "colorbar": {
              "outlinewidth": 0,
              "ticks": ""
             }
            },
            "type": "scatterpolargl"
           }
          ],
          "scatterternary": [
           {
            "marker": {
             "colorbar": {
              "outlinewidth": 0,
              "ticks": ""
             }
            },
            "type": "scatterternary"
           }
          ],
          "surface": [
           {
            "colorbar": {
             "outlinewidth": 0,
             "ticks": ""
            },
            "colorscale": [
             [
              0,
              "#0d0887"
             ],
             [
              0.1111111111111111,
              "#46039f"
             ],
             [
              0.2222222222222222,
              "#7201a8"
             ],
             [
              0.3333333333333333,
              "#9c179e"
             ],
             [
              0.4444444444444444,
              "#bd3786"
             ],
             [
              0.5555555555555556,
              "#d8576b"
             ],
             [
              0.6666666666666666,
              "#ed7953"
             ],
             [
              0.7777777777777778,
              "#fb9f3a"
             ],
             [
              0.8888888888888888,
              "#fdca26"
             ],
             [
              1,
              "#f0f921"
             ]
            ],
            "type": "surface"
           }
          ],
          "table": [
           {
            "cells": {
             "fill": {
              "color": "#EBF0F8"
             },
             "line": {
              "color": "white"
             }
            },
            "header": {
             "fill": {
              "color": "#C8D4E3"
             },
             "line": {
              "color": "white"
             }
            },
            "type": "table"
           }
          ]
         },
         "layout": {
          "annotationdefaults": {
           "arrowcolor": "#2a3f5f",
           "arrowhead": 0,
           "arrowwidth": 1
          },
          "autotypenumbers": "strict",
          "coloraxis": {
           "colorbar": {
            "outlinewidth": 0,
            "ticks": ""
           }
          },
          "colorscale": {
           "diverging": [
            [
             0,
             "#8e0152"
            ],
            [
             0.1,
             "#c51b7d"
            ],
            [
             0.2,
             "#de77ae"
            ],
            [
             0.3,
             "#f1b6da"
            ],
            [
             0.4,
             "#fde0ef"
            ],
            [
             0.5,
             "#f7f7f7"
            ],
            [
             0.6,
             "#e6f5d0"
            ],
            [
             0.7,
             "#b8e186"
            ],
            [
             0.8,
             "#7fbc41"
            ],
            [
             0.9,
             "#4d9221"
            ],
            [
             1,
             "#276419"
            ]
           ],
           "sequential": [
            [
             0,
             "#0d0887"
            ],
            [
             0.1111111111111111,
             "#46039f"
            ],
            [
             0.2222222222222222,
             "#7201a8"
            ],
            [
             0.3333333333333333,
             "#9c179e"
            ],
            [
             0.4444444444444444,
             "#bd3786"
            ],
            [
             0.5555555555555556,
             "#d8576b"
            ],
            [
             0.6666666666666666,
             "#ed7953"
            ],
            [
             0.7777777777777778,
             "#fb9f3a"
            ],
            [
             0.8888888888888888,
             "#fdca26"
            ],
            [
             1,
             "#f0f921"
            ]
           ],
           "sequentialminus": [
            [
             0,
             "#0d0887"
            ],
            [
             0.1111111111111111,
             "#46039f"
            ],
            [
             0.2222222222222222,
             "#7201a8"
            ],
            [
             0.3333333333333333,
             "#9c179e"
            ],
            [
             0.4444444444444444,
             "#bd3786"
            ],
            [
             0.5555555555555556,
             "#d8576b"
            ],
            [
             0.6666666666666666,
             "#ed7953"
            ],
            [
             0.7777777777777778,
             "#fb9f3a"
            ],
            [
             0.8888888888888888,
             "#fdca26"
            ],
            [
             1,
             "#f0f921"
            ]
           ]
          },
          "colorway": [
           "#636efa",
           "#EF553B",
           "#00cc96",
           "#ab63fa",
           "#FFA15A",
           "#19d3f3",
           "#FF6692",
           "#B6E880",
           "#FF97FF",
           "#FECB52"
          ],
          "font": {
           "color": "#2a3f5f"
          },
          "geo": {
           "bgcolor": "white",
           "lakecolor": "white",
           "landcolor": "#E5ECF6",
           "showlakes": true,
           "showland": true,
           "subunitcolor": "white"
          },
          "hoverlabel": {
           "align": "left"
          },
          "hovermode": "closest",
          "mapbox": {
           "style": "light"
          },
          "paper_bgcolor": "white",
          "plot_bgcolor": "#E5ECF6",
          "polar": {
           "angularaxis": {
            "gridcolor": "white",
            "linecolor": "white",
            "ticks": ""
           },
           "bgcolor": "#E5ECF6",
           "radialaxis": {
            "gridcolor": "white",
            "linecolor": "white",
            "ticks": ""
           }
          },
          "scene": {
           "xaxis": {
            "backgroundcolor": "#E5ECF6",
            "gridcolor": "white",
            "gridwidth": 2,
            "linecolor": "white",
            "showbackground": true,
            "ticks": "",
            "zerolinecolor": "white"
           },
           "yaxis": {
            "backgroundcolor": "#E5ECF6",
            "gridcolor": "white",
            "gridwidth": 2,
            "linecolor": "white",
            "showbackground": true,
            "ticks": "",
            "zerolinecolor": "white"
           },
           "zaxis": {
            "backgroundcolor": "#E5ECF6",
            "gridcolor": "white",
            "gridwidth": 2,
            "linecolor": "white",
            "showbackground": true,
            "ticks": "",
            "zerolinecolor": "white"
           }
          },
          "shapedefaults": {
           "line": {
            "color": "#2a3f5f"
           }
          },
          "ternary": {
           "aaxis": {
            "gridcolor": "white",
            "linecolor": "white",
            "ticks": ""
           },
           "baxis": {
            "gridcolor": "white",
            "linecolor": "white",
            "ticks": ""
           },
           "bgcolor": "#E5ECF6",
           "caxis": {
            "gridcolor": "white",
            "linecolor": "white",
            "ticks": ""
           }
          },
          "title": {
           "x": 0.05
          },
          "xaxis": {
           "automargin": true,
           "gridcolor": "white",
           "linecolor": "white",
           "ticks": "",
           "title": {
            "standoff": 15
           },
           "zerolinecolor": "white",
           "zerolinewidth": 2
          },
          "yaxis": {
           "automargin": true,
           "gridcolor": "white",
           "linecolor": "white",
           "ticks": "",
           "title": {
            "standoff": 15
           },
           "zerolinecolor": "white",
           "zerolinewidth": 2
          }
         }
        },
        "title": {
         "font": {
          "color": "black"
         },
         "text": "Income",
         "x": 0.5,
         "y": 0.95
        },
        "width": 1200,
        "xaxis": {
         "anchor": "y",
         "domain": [
          0,
          1
         ]
        },
        "xaxis2": {
         "anchor": "y2",
         "domain": [
          0,
          1
         ]
        },
        "xaxis3": {
         "anchor": "y3",
         "domain": [
          0,
          1
         ]
        },
        "yaxis": {
         "anchor": "x",
         "domain": [
          0.7333333333333334,
          1
         ]
        },
        "yaxis2": {
         "anchor": "x2",
         "domain": [
          0.3666666666666667,
          0.6333333333333333
         ]
        },
        "yaxis3": {
         "anchor": "x3",
         "domain": [
          0,
          0.26666666666666666
         ]
        }
       }
      }
     },
     "metadata": {},
     "output_type": "display_data"
    },
    {
     "data": {
      "application/vnd.plotly.v1+json": {
       "config": {
        "plotlyServerURL": "https://plot.ly"
       },
       "data": [
        {
         "mode": "lines+markers",
         "name": "Changes In Employment By Sector, (Compared To The Previous Period), Quarterly",
         "type": "scatter",
         "x": [
          "1991 1Q",
          "1991 2Q",
          "1991 3Q",
          "1991 4Q",
          "1992 1Q",
          "1992 2Q",
          "1992 3Q",
          "1992 4Q",
          "1993 1Q",
          "1993 2Q",
          "1993 3Q",
          "1993 4Q",
          "1994 1Q",
          "1994 2Q",
          "1994 3Q",
          "1994 4Q",
          "1995 1Q",
          "1995 2Q",
          "1995 3Q",
          "1995 4Q",
          "1996 1Q",
          "1996 2Q",
          "1996 3Q",
          "1996 4Q",
          "1997 1Q",
          "1997 2Q",
          "1997 3Q",
          "1997 4Q",
          "1998 1Q",
          "1998 2Q",
          "1998 3Q",
          "1998 4Q",
          "1999 1Q",
          "1999 2Q",
          "1999 3Q",
          "1999 4Q",
          "2000 1Q",
          "2000 2Q",
          "2000 3Q",
          "2000 4Q",
          "2001 1Q",
          "2001 2Q",
          "2001 3Q",
          "2001 4Q",
          "2002 1Q",
          "2002 2Q",
          "2002 3Q",
          "2002 4Q",
          "2003 1Q",
          "2003 2Q",
          "2003 3Q",
          "2003 4Q",
          "2004 1Q",
          "2004 2Q",
          "2004 3Q",
          "2004 4Q",
          "2005 1Q",
          "2005 2Q",
          "2005 3Q",
          "2005 4Q",
          "2006 1Q",
          "2006 2Q",
          "2006 3Q",
          "2006 4Q",
          "2007 1Q",
          "2007 2Q",
          "2007 3Q",
          "2007 4Q",
          "2008 1Q",
          "2008 2Q",
          "2008 3Q",
          "2008 4Q",
          "2009 1Q",
          "2009 2Q",
          "2009 3Q",
          "2009 4Q",
          "2010 1Q",
          "2010 2Q",
          "2010 3Q",
          "2010 4Q",
          "2011 1Q",
          "2011 2Q",
          "2011 3Q",
          "2011 4Q",
          "2012 1Q",
          "2012 2Q",
          "2012 3Q",
          "2012 4Q",
          "2013 1Q",
          "2013 2Q",
          "2013 3Q",
          "2013 4Q",
          "2014 1Q",
          "2014 2Q",
          "2014 3Q",
          "2014 4Q",
          "2015 1Q",
          "2015 2Q",
          "2015 3Q",
          "2015 4Q",
          "2016 1Q",
          "2016 2Q",
          "2016 3Q",
          "2016 4Q",
          "2017 1Q",
          "2017 2Q",
          "2017 3Q",
          "2017 4Q",
          "2018 1Q",
          "2018 2Q",
          "2018 3Q",
          "2018 4Q",
          "2019 1Q",
          "2019 2Q",
          "2019 3Q",
          "2019 4Q",
          "2020 1Q",
          "2020 2Q",
          "2020 3Q",
          "2020 4Q",
          "2021 1Q",
          "2021 2Q",
          "2021 3Q",
          "2021 4Q",
          "2022 1Q",
          "2022 2Q"
         ],
         "xaxis": "x",
         "y": [
          "8500",
          "15800",
          "15500",
          "12600",
          "15900",
          "6200",
          "7700",
          "10500",
          "15900",
          "10300",
          "18600",
          "25900",
          "9000",
          "28900",
          "7900",
          "26300",
          "14200",
          "27100",
          "20400",
          "47300",
          "17400",
          "23300",
          "22100",
          "39800",
          "16200",
          "37200",
          "31100",
          "35800",
          "9100",
          "-5900",
          "-20300",
          "-6300",
          "-9600",
          "15500",
          "7700",
          "26300",
          "13700",
          "29700",
          "30000",
          "35100",
          "23200",
          "3300",
          "-12500",
          "-14100",
          "-10300",
          "-3800",
          "-8500",
          "-300",
          "-4100",
          "-26000",
          "900",
          "16200",
          "13700",
          "10900",
          "14100",
          "32700",
          "17800",
          "31700",
          "28500",
          "35300",
          "45000",
          "36400",
          "43000",
          "51500",
          "49400",
          "64400",
          "58600",
          "62500",
          "73200",
          "71400",
          "55700",
          "21300",
          "-6200",
          "-7700",
          "13900",
          "37500",
          "36500",
          "24900",
          "20500",
          "33900",
          "28300",
          "24800",
          "31900",
          "37600",
          "27200",
          "31700",
          "26200",
          "44000",
          "28900",
          "33700",
          "33100",
          "40600",
          "28400",
          "27700",
          "33400",
          "40700",
          "-6100",
          "9700",
          "12600",
          "16100",
          "13000",
          "4200",
          "-2700",
          "2300",
          "-6800",
          "-7300",
          "-2300",
          "12700",
          "3700",
          "6500",
          "19300",
          "15900",
          "13800",
          "6800",
          "27500",
          "21600",
          "-25400",
          "-113500",
          "-34400",
          "-7800",
          "13900",
          "-19900",
          "-8400",
          "54600",
          "47400",
          "71100"
         ],
         "yaxis": "y"
        },
        {
         "mode": "lines+markers",
         "name": "Unemployment Rate (End Of Period), Quarterly, Seasonally Adjusted",
         "type": "scatter",
         "x": [
          "1992 1Q",
          "1992 2Q",
          "1992 3Q",
          "1992 4Q",
          "1993 1Q",
          "1993 2Q",
          "1993 3Q",
          "1993 4Q",
          "1994 1Q",
          "1994 2Q",
          "1994 3Q",
          "1994 4Q",
          "1995 1Q",
          "1995 2Q",
          "1995 3Q",
          "1995 4Q",
          "1996 1Q",
          "1996 2Q",
          "1996 3Q",
          "1996 4Q",
          "1997 1Q",
          "1997 2Q",
          "1997 3Q",
          "1997 4Q",
          "1998 1Q",
          "1998 2Q",
          "1998 3Q",
          "1998 4Q",
          "1999 1Q",
          "1999 2Q",
          "1999 3Q",
          "1999 4Q",
          "2000 1Q",
          "2000 2Q",
          "2000 3Q",
          "2000 4Q",
          "2001 1Q",
          "2001 2Q",
          "2001 3Q",
          "2001 4Q",
          "2002 1Q",
          "2002 2Q",
          "2002 3Q",
          "2002 4Q",
          "2003 1Q",
          "2003 2Q",
          "2003 3Q",
          "2003 4Q",
          "2004 1Q",
          "2004 2Q",
          "2004 3Q",
          "2004 4Q",
          "2005 1Q",
          "2005 2Q",
          "2005 3Q",
          "2005 4Q",
          "2006 1Q",
          "2006 2Q",
          "2006 3Q",
          "2006 4Q",
          "2007 1Q",
          "2007 2Q",
          "2007 3Q",
          "2007 4Q",
          "2008 1Q",
          "2008 2Q",
          "2008 3Q",
          "2008 4Q",
          "2009 1Q",
          "2009 2Q",
          "2009 3Q",
          "2009 4Q",
          "2010 1Q",
          "2010 2Q",
          "2010 3Q",
          "2010 4Q",
          "2011 1Q",
          "2011 2Q",
          "2011 3Q",
          "2011 4Q",
          "2012 1Q",
          "2012 2Q",
          "2012 3Q",
          "2012 4Q",
          "2013 1Q",
          "2013 2Q",
          "2013 3Q",
          "2013 4Q",
          "2014 1Q",
          "2014 2Q",
          "2014 3Q",
          "2014 4Q",
          "2015 1Q",
          "2015 2Q",
          "2015 3Q",
          "2015 4Q",
          "2016 1Q",
          "2016 2Q",
          "2016 3Q",
          "2016 4Q",
          "2017 1Q",
          "2017 2Q",
          "2017 3Q",
          "2017 4Q",
          "2018 1Q",
          "2018 2Q",
          "2018 3Q",
          "2018 4Q",
          "2019 1Q",
          "2019 2Q",
          "2019 3Q",
          "2019 4Q",
          "2020 1Q",
          "2020 2Q",
          "2020 3Q",
          "2020 4Q",
          "2021 1Q",
          "2021 2Q",
          "2021 3Q",
          "2021 4Q",
          "2022 1Q",
          "2022 2Q"
         ],
         "xaxis": "x2",
         "y": [
          "1.8",
          "1.8",
          "2",
          "1.6",
          "1.5",
          "1.8",
          "1.8",
          "1.6",
          "1.7",
          "1.6",
          "1.8",
          "1.8",
          "1.7",
          "1.9",
          "1.6",
          "1.7",
          "1.8",
          "1.8",
          "1.5",
          "1.5",
          "1.4",
          "1.4",
          "1.4",
          "1.5",
          "1.7",
          "1.9",
          "3.3",
          "3.4",
          "3.1",
          "2.7",
          "3",
          "2.4",
          "2.8",
          "3.4",
          "2",
          "2.2",
          "1.9",
          "2.2",
          "2.9",
          "3.7",
          "3.6",
          "3.4",
          "3.6",
          "3.7",
          "3.7",
          "3.6",
          "4.8",
          "3.9",
          "3.7",
          "3.6",
          "3",
          "3.2",
          "3.2",
          "3.3",
          "3.3",
          "2.7",
          "2.4",
          "2.7",
          "2.8",
          "2.8",
          "2.7",
          "2.3",
          "1.7",
          "1.7",
          "1.9",
          "2.2",
          "2.3",
          "2.7",
          "3.2",
          "3.2",
          "3.3",
          "2.3",
          "2.2",
          "2.2",
          "2.1",
          "2.2",
          "1.9",
          "2",
          "2.1",
          "2.1",
          "2.1",
          "1.9",
          "1.9",
          "1.9",
          "1.9",
          "2",
          "1.8",
          "1.9",
          "2.1",
          "1.9",
          "1.9",
          "1.9",
          "1.8",
          "2",
          "1.9",
          "1.9",
          "1.9",
          "2.1",
          "2.1",
          "2.2",
          "2.3",
          "2.2",
          "2.1",
          "2.1",
          "2.1",
          "2.1",
          "2.1",
          "2.2",
          "2.2",
          "2.3",
          "2.2",
          "2.3",
          "2.5",
          "2.9",
          "3.4",
          "3.2",
          "2.9",
          "2.7",
          "2.6",
          "2.4",
          "2.2",
          "2.1"
         ],
         "yaxis": "y2"
        }
       ],
       "layout": {
        "autosize": true,
        "autotypenumbers": "convert types",
        "height": 900,
        "legend": {
         "orientation": "h",
         "x": 0.8,
         "xanchor": "right",
         "y": 1,
         "yanchor": "bottom"
        },
        "margin": {
         "b": 20,
         "l": 20,
         "r": 20,
         "t": 150
        },
        "template": {
         "data": {
          "bar": [
           {
            "error_x": {
             "color": "#2a3f5f"
            },
            "error_y": {
             "color": "#2a3f5f"
            },
            "marker": {
             "line": {
              "color": "#E5ECF6",
              "width": 0.5
             },
             "pattern": {
              "fillmode": "overlay",
              "size": 10,
              "solidity": 0.2
             }
            },
            "type": "bar"
           }
          ],
          "barpolar": [
           {
            "marker": {
             "line": {
              "color": "#E5ECF6",
              "width": 0.5
             },
             "pattern": {
              "fillmode": "overlay",
              "size": 10,
              "solidity": 0.2
             }
            },
            "type": "barpolar"
           }
          ],
          "carpet": [
           {
            "aaxis": {
             "endlinecolor": "#2a3f5f",
             "gridcolor": "white",
             "linecolor": "white",
             "minorgridcolor": "white",
             "startlinecolor": "#2a3f5f"
            },
            "baxis": {
             "endlinecolor": "#2a3f5f",
             "gridcolor": "white",
             "linecolor": "white",
             "minorgridcolor": "white",
             "startlinecolor": "#2a3f5f"
            },
            "type": "carpet"
           }
          ],
          "choropleth": [
           {
            "colorbar": {
             "outlinewidth": 0,
             "ticks": ""
            },
            "type": "choropleth"
           }
          ],
          "contour": [
           {
            "colorbar": {
             "outlinewidth": 0,
             "ticks": ""
            },
            "colorscale": [
             [
              0,
              "#0d0887"
             ],
             [
              0.1111111111111111,
              "#46039f"
             ],
             [
              0.2222222222222222,
              "#7201a8"
             ],
             [
              0.3333333333333333,
              "#9c179e"
             ],
             [
              0.4444444444444444,
              "#bd3786"
             ],
             [
              0.5555555555555556,
              "#d8576b"
             ],
             [
              0.6666666666666666,
              "#ed7953"
             ],
             [
              0.7777777777777778,
              "#fb9f3a"
             ],
             [
              0.8888888888888888,
              "#fdca26"
             ],
             [
              1,
              "#f0f921"
             ]
            ],
            "type": "contour"
           }
          ],
          "contourcarpet": [
           {
            "colorbar": {
             "outlinewidth": 0,
             "ticks": ""
            },
            "type": "contourcarpet"
           }
          ],
          "heatmap": [
           {
            "colorbar": {
             "outlinewidth": 0,
             "ticks": ""
            },
            "colorscale": [
             [
              0,
              "#0d0887"
             ],
             [
              0.1111111111111111,
              "#46039f"
             ],
             [
              0.2222222222222222,
              "#7201a8"
             ],
             [
              0.3333333333333333,
              "#9c179e"
             ],
             [
              0.4444444444444444,
              "#bd3786"
             ],
             [
              0.5555555555555556,
              "#d8576b"
             ],
             [
              0.6666666666666666,
              "#ed7953"
             ],
             [
              0.7777777777777778,
              "#fb9f3a"
             ],
             [
              0.8888888888888888,
              "#fdca26"
             ],
             [
              1,
              "#f0f921"
             ]
            ],
            "type": "heatmap"
           }
          ],
          "heatmapgl": [
           {
            "colorbar": {
             "outlinewidth": 0,
             "ticks": ""
            },
            "colorscale": [
             [
              0,
              "#0d0887"
             ],
             [
              0.1111111111111111,
              "#46039f"
             ],
             [
              0.2222222222222222,
              "#7201a8"
             ],
             [
              0.3333333333333333,
              "#9c179e"
             ],
             [
              0.4444444444444444,
              "#bd3786"
             ],
             [
              0.5555555555555556,
              "#d8576b"
             ],
             [
              0.6666666666666666,
              "#ed7953"
             ],
             [
              0.7777777777777778,
              "#fb9f3a"
             ],
             [
              0.8888888888888888,
              "#fdca26"
             ],
             [
              1,
              "#f0f921"
             ]
            ],
            "type": "heatmapgl"
           }
          ],
          "histogram": [
           {
            "marker": {
             "pattern": {
              "fillmode": "overlay",
              "size": 10,
              "solidity": 0.2
             }
            },
            "type": "histogram"
           }
          ],
          "histogram2d": [
           {
            "colorbar": {
             "outlinewidth": 0,
             "ticks": ""
            },
            "colorscale": [
             [
              0,
              "#0d0887"
             ],
             [
              0.1111111111111111,
              "#46039f"
             ],
             [
              0.2222222222222222,
              "#7201a8"
             ],
             [
              0.3333333333333333,
              "#9c179e"
             ],
             [
              0.4444444444444444,
              "#bd3786"
             ],
             [
              0.5555555555555556,
              "#d8576b"
             ],
             [
              0.6666666666666666,
              "#ed7953"
             ],
             [
              0.7777777777777778,
              "#fb9f3a"
             ],
             [
              0.8888888888888888,
              "#fdca26"
             ],
             [
              1,
              "#f0f921"
             ]
            ],
            "type": "histogram2d"
           }
          ],
          "histogram2dcontour": [
           {
            "colorbar": {
             "outlinewidth": 0,
             "ticks": ""
            },
            "colorscale": [
             [
              0,
              "#0d0887"
             ],
             [
              0.1111111111111111,
              "#46039f"
             ],
             [
              0.2222222222222222,
              "#7201a8"
             ],
             [
              0.3333333333333333,
              "#9c179e"
             ],
             [
              0.4444444444444444,
              "#bd3786"
             ],
             [
              0.5555555555555556,
              "#d8576b"
             ],
             [
              0.6666666666666666,
              "#ed7953"
             ],
             [
              0.7777777777777778,
              "#fb9f3a"
             ],
             [
              0.8888888888888888,
              "#fdca26"
             ],
             [
              1,
              "#f0f921"
             ]
            ],
            "type": "histogram2dcontour"
           }
          ],
          "mesh3d": [
           {
            "colorbar": {
             "outlinewidth": 0,
             "ticks": ""
            },
            "type": "mesh3d"
           }
          ],
          "parcoords": [
           {
            "line": {
             "colorbar": {
              "outlinewidth": 0,
              "ticks": ""
             }
            },
            "type": "parcoords"
           }
          ],
          "pie": [
           {
            "automargin": true,
            "type": "pie"
           }
          ],
          "scatter": [
           {
            "marker": {
             "colorbar": {
              "outlinewidth": 0,
              "ticks": ""
             }
            },
            "type": "scatter"
           }
          ],
          "scatter3d": [
           {
            "line": {
             "colorbar": {
              "outlinewidth": 0,
              "ticks": ""
             }
            },
            "marker": {
             "colorbar": {
              "outlinewidth": 0,
              "ticks": ""
             }
            },
            "type": "scatter3d"
           }
          ],
          "scattercarpet": [
           {
            "marker": {
             "colorbar": {
              "outlinewidth": 0,
              "ticks": ""
             }
            },
            "type": "scattercarpet"
           }
          ],
          "scattergeo": [
           {
            "marker": {
             "colorbar": {
              "outlinewidth": 0,
              "ticks": ""
             }
            },
            "type": "scattergeo"
           }
          ],
          "scattergl": [
           {
            "marker": {
             "colorbar": {
              "outlinewidth": 0,
              "ticks": ""
             }
            },
            "type": "scattergl"
           }
          ],
          "scattermapbox": [
           {
            "marker": {
             "colorbar": {
              "outlinewidth": 0,
              "ticks": ""
             }
            },
            "type": "scattermapbox"
           }
          ],
          "scatterpolar": [
           {
            "marker": {
             "colorbar": {
              "outlinewidth": 0,
              "ticks": ""
             }
            },
            "type": "scatterpolar"
           }
          ],
          "scatterpolargl": [
           {
            "marker": {
             "colorbar": {
              "outlinewidth": 0,
              "ticks": ""
             }
            },
            "type": "scatterpolargl"
           }
          ],
          "scatterternary": [
           {
            "marker": {
             "colorbar": {
              "outlinewidth": 0,
              "ticks": ""
             }
            },
            "type": "scatterternary"
           }
          ],
          "surface": [
           {
            "colorbar": {
             "outlinewidth": 0,
             "ticks": ""
            },
            "colorscale": [
             [
              0,
              "#0d0887"
             ],
             [
              0.1111111111111111,
              "#46039f"
             ],
             [
              0.2222222222222222,
              "#7201a8"
             ],
             [
              0.3333333333333333,
              "#9c179e"
             ],
             [
              0.4444444444444444,
              "#bd3786"
             ],
             [
              0.5555555555555556,
              "#d8576b"
             ],
             [
              0.6666666666666666,
              "#ed7953"
             ],
             [
              0.7777777777777778,
              "#fb9f3a"
             ],
             [
              0.8888888888888888,
              "#fdca26"
             ],
             [
              1,
              "#f0f921"
             ]
            ],
            "type": "surface"
           }
          ],
          "table": [
           {
            "cells": {
             "fill": {
              "color": "#EBF0F8"
             },
             "line": {
              "color": "white"
             }
            },
            "header": {
             "fill": {
              "color": "#C8D4E3"
             },
             "line": {
              "color": "white"
             }
            },
            "type": "table"
           }
          ]
         },
         "layout": {
          "annotationdefaults": {
           "arrowcolor": "#2a3f5f",
           "arrowhead": 0,
           "arrowwidth": 1
          },
          "autotypenumbers": "strict",
          "coloraxis": {
           "colorbar": {
            "outlinewidth": 0,
            "ticks": ""
           }
          },
          "colorscale": {
           "diverging": [
            [
             0,
             "#8e0152"
            ],
            [
             0.1,
             "#c51b7d"
            ],
            [
             0.2,
             "#de77ae"
            ],
            [
             0.3,
             "#f1b6da"
            ],
            [
             0.4,
             "#fde0ef"
            ],
            [
             0.5,
             "#f7f7f7"
            ],
            [
             0.6,
             "#e6f5d0"
            ],
            [
             0.7,
             "#b8e186"
            ],
            [
             0.8,
             "#7fbc41"
            ],
            [
             0.9,
             "#4d9221"
            ],
            [
             1,
             "#276419"
            ]
           ],
           "sequential": [
            [
             0,
             "#0d0887"
            ],
            [
             0.1111111111111111,
             "#46039f"
            ],
            [
             0.2222222222222222,
             "#7201a8"
            ],
            [
             0.3333333333333333,
             "#9c179e"
            ],
            [
             0.4444444444444444,
             "#bd3786"
            ],
            [
             0.5555555555555556,
             "#d8576b"
            ],
            [
             0.6666666666666666,
             "#ed7953"
            ],
            [
             0.7777777777777778,
             "#fb9f3a"
            ],
            [
             0.8888888888888888,
             "#fdca26"
            ],
            [
             1,
             "#f0f921"
            ]
           ],
           "sequentialminus": [
            [
             0,
             "#0d0887"
            ],
            [
             0.1111111111111111,
             "#46039f"
            ],
            [
             0.2222222222222222,
             "#7201a8"
            ],
            [
             0.3333333333333333,
             "#9c179e"
            ],
            [
             0.4444444444444444,
             "#bd3786"
            ],
            [
             0.5555555555555556,
             "#d8576b"
            ],
            [
             0.6666666666666666,
             "#ed7953"
            ],
            [
             0.7777777777777778,
             "#fb9f3a"
            ],
            [
             0.8888888888888888,
             "#fdca26"
            ],
            [
             1,
             "#f0f921"
            ]
           ]
          },
          "colorway": [
           "#636efa",
           "#EF553B",
           "#00cc96",
           "#ab63fa",
           "#FFA15A",
           "#19d3f3",
           "#FF6692",
           "#B6E880",
           "#FF97FF",
           "#FECB52"
          ],
          "font": {
           "color": "#2a3f5f"
          },
          "geo": {
           "bgcolor": "white",
           "lakecolor": "white",
           "landcolor": "#E5ECF6",
           "showlakes": true,
           "showland": true,
           "subunitcolor": "white"
          },
          "hoverlabel": {
           "align": "left"
          },
          "hovermode": "closest",
          "mapbox": {
           "style": "light"
          },
          "paper_bgcolor": "white",
          "plot_bgcolor": "#E5ECF6",
          "polar": {
           "angularaxis": {
            "gridcolor": "white",
            "linecolor": "white",
            "ticks": ""
           },
           "bgcolor": "#E5ECF6",
           "radialaxis": {
            "gridcolor": "white",
            "linecolor": "white",
            "ticks": ""
           }
          },
          "scene": {
           "xaxis": {
            "backgroundcolor": "#E5ECF6",
            "gridcolor": "white",
            "gridwidth": 2,
            "linecolor": "white",
            "showbackground": true,
            "ticks": "",
            "zerolinecolor": "white"
           },
           "yaxis": {
            "backgroundcolor": "#E5ECF6",
            "gridcolor": "white",
            "gridwidth": 2,
            "linecolor": "white",
            "showbackground": true,
            "ticks": "",
            "zerolinecolor": "white"
           },
           "zaxis": {
            "backgroundcolor": "#E5ECF6",
            "gridcolor": "white",
            "gridwidth": 2,
            "linecolor": "white",
            "showbackground": true,
            "ticks": "",
            "zerolinecolor": "white"
           }
          },
          "shapedefaults": {
           "line": {
            "color": "#2a3f5f"
           }
          },
          "ternary": {
           "aaxis": {
            "gridcolor": "white",
            "linecolor": "white",
            "ticks": ""
           },
           "baxis": {
            "gridcolor": "white",
            "linecolor": "white",
            "ticks": ""
           },
           "bgcolor": "#E5ECF6",
           "caxis": {
            "gridcolor": "white",
            "linecolor": "white",
            "ticks": ""
           }
          },
          "title": {
           "x": 0.05
          },
          "xaxis": {
           "automargin": true,
           "gridcolor": "white",
           "linecolor": "white",
           "ticks": "",
           "title": {
            "standoff": 15
           },
           "zerolinecolor": "white",
           "zerolinewidth": 2
          },
          "yaxis": {
           "automargin": true,
           "gridcolor": "white",
           "linecolor": "white",
           "ticks": "",
           "title": {
            "standoff": 15
           },
           "zerolinecolor": "white",
           "zerolinewidth": 2
          }
         }
        },
        "title": {
         "font": {
          "color": "black"
         },
         "text": "Employment",
         "x": 0.5,
         "y": 0.95
        },
        "width": 1200,
        "xaxis": {
         "anchor": "y",
         "domain": [
          0,
          1
         ]
        },
        "xaxis2": {
         "anchor": "y2",
         "domain": [
          0,
          1
         ]
        },
        "yaxis": {
         "anchor": "x",
         "domain": [
          0.55,
          1
         ]
        },
        "yaxis2": {
         "anchor": "x2",
         "domain": [
          0,
          0.45
         ]
        }
       }
      }
     },
     "metadata": {},
     "output_type": "display_data"
    },
    {
     "data": {
      "application/vnd.plotly.v1+json": {
       "config": {
        "plotlyServerURL": "https://plot.ly"
       },
       "data": [
        {
         "mode": "lines+markers",
         "name": "Changes In Value Added Per Worker In Chained (2015) Dollars, By Industry (SSIC 2020), Quarterly",
         "type": "scatter",
         "x": [
          "1992 1Q",
          "1992 2Q",
          "1992 3Q",
          "1992 4Q",
          "1993 1Q",
          "1993 2Q",
          "1993 3Q",
          "1993 4Q",
          "1994 1Q",
          "1994 2Q",
          "1994 3Q",
          "1994 4Q",
          "1995 1Q",
          "1995 2Q",
          "1995 3Q",
          "1995 4Q",
          "1996 1Q",
          "1996 2Q",
          "1996 3Q",
          "1996 4Q",
          "1997 1Q",
          "1997 2Q",
          "1997 3Q",
          "1997 4Q",
          "1998 1Q",
          "1998 2Q",
          "1998 3Q",
          "1998 4Q",
          "1999 1Q",
          "1999 2Q",
          "1999 3Q",
          "1999 4Q",
          "2000 1Q",
          "2000 2Q",
          "2000 3Q",
          "2000 4Q",
          "2001 1Q",
          "2001 2Q",
          "2001 3Q",
          "2001 4Q",
          "2002 1Q",
          "2002 2Q",
          "2002 3Q",
          "2002 4Q",
          "2003 1Q",
          "2003 2Q",
          "2003 3Q",
          "2003 4Q",
          "2004 1Q",
          "2004 2Q",
          "2004 3Q",
          "2004 4Q",
          "2005 1Q",
          "2005 2Q",
          "2005 3Q",
          "2005 4Q",
          "2006 1Q",
          "2006 2Q",
          "2006 3Q",
          "2006 4Q",
          "2007 1Q",
          "2007 2Q",
          "2007 3Q",
          "2007 4Q",
          "2008 1Q",
          "2008 2Q",
          "2008 3Q",
          "2008 4Q",
          "2009 1Q",
          "2009 2Q",
          "2009 3Q",
          "2009 4Q",
          "2010 1Q",
          "2010 2Q",
          "2010 3Q",
          "2010 4Q",
          "2011 1Q",
          "2011 2Q",
          "2011 3Q",
          "2011 4Q",
          "2012 1Q",
          "2012 2Q",
          "2012 3Q",
          "2012 4Q",
          "2013 1Q",
          "2013 2Q",
          "2013 3Q",
          "2013 4Q",
          "2014 1Q",
          "2014 2Q",
          "2014 3Q",
          "2014 4Q",
          "2015 1Q",
          "2015 2Q",
          "2015 3Q",
          "2015 4Q",
          "2016 1Q",
          "2016 2Q",
          "2016 3Q",
          "2016 4Q",
          "2017 1Q",
          "2017 2Q",
          "2017 3Q",
          "2017 4Q",
          "2018 1Q",
          "2018 2Q",
          "2018 3Q",
          "2018 4Q",
          "2019 1Q",
          "2019 2Q",
          "2019 3Q",
          "2019 4Q",
          "2020 1Q",
          "2020 2Q",
          "2020 3Q",
          "2020 4Q",
          "2021 1Q",
          "2021 2Q",
          "2021 3Q",
          "2021 4Q",
          "2022 1Q",
          "2022 2Q"
         ],
         "xaxis": "x",
         "y": [
          "1.6",
          "1.9",
          "3.7",
          "5.9",
          "6.2",
          "9.4",
          "7.7",
          "8.3",
          "8.7",
          "5.1",
          "7",
          "4.6",
          "1",
          "2.9",
          "3",
          "1.4",
          "4.9",
          "2.1",
          "-1.8",
          "0",
          "0.2",
          "3.3",
          "4.3",
          "0.5",
          "-4.1",
          "-6.3",
          "-6.7",
          "-2",
          "4.1",
          "6.8",
          "8.2",
          "5.6",
          "6",
          "4.4",
          "4.7",
          "4",
          "-0.1",
          "-4.1",
          "-7.8",
          "-5.5",
          "-0.1",
          "6",
          "8.6",
          "7.4",
          "5",
          "1.3",
          "6.9",
          "10",
          "10.5",
          "11.9",
          "5.9",
          "4.6",
          "1.9",
          "2",
          "3.5",
          "3.8",
          "4.2",
          "2.2",
          "1.7",
          "1.1",
          "0.6",
          "1.6",
          "1.8",
          "-2.6",
          "-1.5",
          "-6.4",
          "-9.1",
          "-11.2",
          "-13",
          "-4",
          "1.6",
          "5.7",
          "13.8",
          "14.5",
          "6",
          "9.1",
          "5.3",
          "-0.5",
          "3.9",
          "1.3",
          "0.9",
          "2.1",
          "-1.8",
          "0.7",
          "-0.6",
          "0.5",
          "1.9",
          "1",
          "0.3",
          "-0.4",
          "0",
          "0.8",
          "-0.1",
          "0.7",
          "1.8",
          "0.9",
          "2",
          "1.7",
          "2.1",
          "4.3",
          "4.6",
          "4.1",
          "5.8",
          "4.9",
          "4.8",
          "4.6",
          "2.3",
          "0.2",
          "-0.1",
          "-0.6",
          "-0.9",
          "-0.4",
          "-0.2",
          "-10.7",
          "-1.2",
          "3.9",
          "6.6",
          "17.9",
          "8.7",
          "5.8",
          "2.2",
          "0.8"
         ],
         "yaxis": "y"
        },
        {
         "mode": "lines+markers",
         "name": "Unit Labour Cost Index (2015 = 100), Quarterly, Seasonally Adjusted",
         "type": "scatter",
         "x": [
          "1980 1Q",
          "1980 2Q",
          "1980 3Q",
          "1980 4Q",
          "1981 1Q",
          "1981 2Q",
          "1981 3Q",
          "1981 4Q",
          "1982 1Q",
          "1982 2Q",
          "1982 3Q",
          "1982 4Q",
          "1983 1Q",
          "1983 2Q",
          "1983 3Q",
          "1983 4Q",
          "1984 1Q",
          "1984 2Q",
          "1984 3Q",
          "1984 4Q",
          "1985 1Q",
          "1985 2Q",
          "1985 3Q",
          "1985 4Q",
          "1986 1Q",
          "1986 2Q",
          "1986 3Q",
          "1986 4Q",
          "1987 1Q",
          "1987 2Q",
          "1987 3Q",
          "1987 4Q",
          "1988 1Q",
          "1988 2Q",
          "1988 3Q",
          "1988 4Q",
          "1989 1Q",
          "1989 2Q",
          "1989 3Q",
          "1989 4Q",
          "1990 1Q",
          "1990 2Q",
          "1990 3Q",
          "1990 4Q",
          "1991 1Q",
          "1991 2Q",
          "1991 3Q",
          "1991 4Q",
          "1992 1Q",
          "1992 2Q",
          "1992 3Q",
          "1992 4Q",
          "1993 1Q",
          "1993 2Q",
          "1993 3Q",
          "1993 4Q",
          "1994 1Q",
          "1994 2Q",
          "1994 3Q",
          "1994 4Q",
          "1995 1Q",
          "1995 2Q",
          "1995 3Q",
          "1995 4Q",
          "1996 1Q",
          "1996 2Q",
          "1996 3Q",
          "1996 4Q",
          "1997 1Q",
          "1997 2Q",
          "1997 3Q",
          "1997 4Q",
          "1998 1Q",
          "1998 2Q",
          "1998 3Q",
          "1998 4Q",
          "1999 1Q",
          "1999 2Q",
          "1999 3Q",
          "1999 4Q",
          "2000 1Q",
          "2000 2Q",
          "2000 3Q",
          "2000 4Q",
          "2001 1Q",
          "2001 2Q",
          "2001 3Q",
          "2001 4Q",
          "2002 1Q",
          "2002 2Q",
          "2002 3Q",
          "2002 4Q",
          "2003 1Q",
          "2003 2Q",
          "2003 3Q",
          "2003 4Q",
          "2004 1Q",
          "2004 2Q",
          "2004 3Q",
          "2004 4Q",
          "2005 1Q",
          "2005 2Q",
          "2005 3Q",
          "2005 4Q",
          "2006 1Q",
          "2006 2Q",
          "2006 3Q",
          "2006 4Q",
          "2007 1Q",
          "2007 2Q",
          "2007 3Q",
          "2007 4Q",
          "2008 1Q",
          "2008 2Q",
          "2008 3Q",
          "2008 4Q",
          "2009 1Q",
          "2009 2Q",
          "2009 3Q",
          "2009 4Q",
          "2010 1Q",
          "2010 2Q",
          "2010 3Q",
          "2010 4Q",
          "2011 1Q",
          "2011 2Q",
          "2011 3Q",
          "2011 4Q",
          "2012 1Q",
          "2012 2Q",
          "2012 3Q",
          "2012 4Q",
          "2013 1Q",
          "2013 2Q",
          "2013 3Q",
          "2013 4Q",
          "2014 1Q",
          "2014 2Q",
          "2014 3Q",
          "2014 4Q",
          "2015 1Q",
          "2015 2Q",
          "2015 3Q",
          "2015 4Q",
          "2016 1Q",
          "2016 2Q",
          "2016 3Q",
          "2016 4Q",
          "2017 1Q",
          "2017 2Q",
          "2017 3Q",
          "2017 4Q",
          "2018 1Q",
          "2018 2Q",
          "2018 3Q",
          "2018 4Q",
          "2019 1Q",
          "2019 2Q",
          "2019 3Q",
          "2019 4Q",
          "2020 1Q",
          "2020 2Q",
          "2020 3Q",
          "2020 4Q",
          "2021 1Q",
          "2021 2Q",
          "2021 3Q",
          "2021 4Q",
          "2022 1Q",
          "2022 2Q"
         ],
         "xaxis": "x2",
         "y": [
          "54.1",
          "55.3",
          "56",
          "56.4",
          "58.7",
          "59.2",
          "61.1",
          "63.1",
          "65",
          "68.1",
          "69.5",
          "73.2",
          "74.2",
          "74.2",
          "75",
          "72.3",
          "74.3",
          "75.7",
          "77.9",
          "76.7",
          "74.8",
          "77.1",
          "77.2",
          "75.7",
          "73.7",
          "68.8",
          "68",
          "66.7",
          "66.1",
          "67.6",
          "64.4",
          "64.1",
          "66.5",
          "65.6",
          "65.6",
          "70",
          "69.9",
          "69.9",
          "72.4",
          "74.4",
          "73.1",
          "75.5",
          "78",
          "77.3",
          "79",
          "80.9",
          "81.6",
          "82.6",
          "83.5",
          "84.1",
          "83.9",
          "83.7",
          "83.8",
          "83.6",
          "84",
          "84.4",
          "84.3",
          "85.3",
          "85.7",
          "87.4",
          "89.1",
          "87.9",
          "86.9",
          "88.5",
          "88.2",
          "90.2",
          "91.7",
          "90.6",
          "90",
          "89.7",
          "90",
          "92.4",
          "95.8",
          "96.3",
          "95.8",
          "91.7",
          "88.6",
          "88.1",
          "87.2",
          "89.7",
          "89.2",
          "88.6",
          "89",
          "92.6",
          "93.1",
          "94.3",
          "97.7",
          "92.6",
          "91.3",
          "89.6",
          "91.1",
          "91.1",
          "89.7",
          "91.7",
          "86.5",
          "83.3",
          "83.6",
          "82.9",
          "83.3",
          "84.8",
          "85.2",
          "83.6",
          "83.7",
          "83.6",
          "84.1",
          "84.9",
          "85.3",
          "86.2",
          "88.1",
          "91.1",
          "89.2",
          "91.4",
          "89.1",
          "91.2",
          "94.1",
          "94.9",
          "96.9",
          "93.1",
          "90",
          "89.8",
          "89.5",
          "85.8",
          "91.4",
          "91.5",
          "90.9",
          "91.7",
          "90.7",
          "91",
          "91.8",
          "92.8",
          "95",
          "94.5",
          "93.8",
          "94.3",
          "94.5",
          "96.2",
          "96.7",
          "97.1",
          "98.3",
          "98.2",
          "100",
          "99.7",
          "99.8",
          "100.6",
          "101.9",
          "101.9",
          "101.4",
          "99.4",
          "100.2",
          "100.8",
          "98.9",
          "99",
          "99.2",
          "100",
          "99.6",
          "100.2",
          "101.1",
          "102.2",
          "102.6",
          "101.4",
          "101.3",
          "84.2",
          "91.8",
          "92.2",
          "93.7",
          "96.5",
          "98",
          "98.4",
          "101",
          "105.1"
         ],
         "yaxis": "y2"
        }
       ],
       "layout": {
        "autosize": true,
        "autotypenumbers": "convert types",
        "height": 900,
        "legend": {
         "orientation": "h",
         "x": 0.8,
         "xanchor": "right",
         "y": 1,
         "yanchor": "bottom"
        },
        "margin": {
         "b": 20,
         "l": 20,
         "r": 20,
         "t": 150
        },
        "template": {
         "data": {
          "bar": [
           {
            "error_x": {
             "color": "#2a3f5f"
            },
            "error_y": {
             "color": "#2a3f5f"
            },
            "marker": {
             "line": {
              "color": "#E5ECF6",
              "width": 0.5
             },
             "pattern": {
              "fillmode": "overlay",
              "size": 10,
              "solidity": 0.2
             }
            },
            "type": "bar"
           }
          ],
          "barpolar": [
           {
            "marker": {
             "line": {
              "color": "#E5ECF6",
              "width": 0.5
             },
             "pattern": {
              "fillmode": "overlay",
              "size": 10,
              "solidity": 0.2
             }
            },
            "type": "barpolar"
           }
          ],
          "carpet": [
           {
            "aaxis": {
             "endlinecolor": "#2a3f5f",
             "gridcolor": "white",
             "linecolor": "white",
             "minorgridcolor": "white",
             "startlinecolor": "#2a3f5f"
            },
            "baxis": {
             "endlinecolor": "#2a3f5f",
             "gridcolor": "white",
             "linecolor": "white",
             "minorgridcolor": "white",
             "startlinecolor": "#2a3f5f"
            },
            "type": "carpet"
           }
          ],
          "choropleth": [
           {
            "colorbar": {
             "outlinewidth": 0,
             "ticks": ""
            },
            "type": "choropleth"
           }
          ],
          "contour": [
           {
            "colorbar": {
             "outlinewidth": 0,
             "ticks": ""
            },
            "colorscale": [
             [
              0,
              "#0d0887"
             ],
             [
              0.1111111111111111,
              "#46039f"
             ],
             [
              0.2222222222222222,
              "#7201a8"
             ],
             [
              0.3333333333333333,
              "#9c179e"
             ],
             [
              0.4444444444444444,
              "#bd3786"
             ],
             [
              0.5555555555555556,
              "#d8576b"
             ],
             [
              0.6666666666666666,
              "#ed7953"
             ],
             [
              0.7777777777777778,
              "#fb9f3a"
             ],
             [
              0.8888888888888888,
              "#fdca26"
             ],
             [
              1,
              "#f0f921"
             ]
            ],
            "type": "contour"
           }
          ],
          "contourcarpet": [
           {
            "colorbar": {
             "outlinewidth": 0,
             "ticks": ""
            },
            "type": "contourcarpet"
           }
          ],
          "heatmap": [
           {
            "colorbar": {
             "outlinewidth": 0,
             "ticks": ""
            },
            "colorscale": [
             [
              0,
              "#0d0887"
             ],
             [
              0.1111111111111111,
              "#46039f"
             ],
             [
              0.2222222222222222,
              "#7201a8"
             ],
             [
              0.3333333333333333,
              "#9c179e"
             ],
             [
              0.4444444444444444,
              "#bd3786"
             ],
             [
              0.5555555555555556,
              "#d8576b"
             ],
             [
              0.6666666666666666,
              "#ed7953"
             ],
             [
              0.7777777777777778,
              "#fb9f3a"
             ],
             [
              0.8888888888888888,
              "#fdca26"
             ],
             [
              1,
              "#f0f921"
             ]
            ],
            "type": "heatmap"
           }
          ],
          "heatmapgl": [
           {
            "colorbar": {
             "outlinewidth": 0,
             "ticks": ""
            },
            "colorscale": [
             [
              0,
              "#0d0887"
             ],
             [
              0.1111111111111111,
              "#46039f"
             ],
             [
              0.2222222222222222,
              "#7201a8"
             ],
             [
              0.3333333333333333,
              "#9c179e"
             ],
             [
              0.4444444444444444,
              "#bd3786"
             ],
             [
              0.5555555555555556,
              "#d8576b"
             ],
             [
              0.6666666666666666,
              "#ed7953"
             ],
             [
              0.7777777777777778,
              "#fb9f3a"
             ],
             [
              0.8888888888888888,
              "#fdca26"
             ],
             [
              1,
              "#f0f921"
             ]
            ],
            "type": "heatmapgl"
           }
          ],
          "histogram": [
           {
            "marker": {
             "pattern": {
              "fillmode": "overlay",
              "size": 10,
              "solidity": 0.2
             }
            },
            "type": "histogram"
           }
          ],
          "histogram2d": [
           {
            "colorbar": {
             "outlinewidth": 0,
             "ticks": ""
            },
            "colorscale": [
             [
              0,
              "#0d0887"
             ],
             [
              0.1111111111111111,
              "#46039f"
             ],
             [
              0.2222222222222222,
              "#7201a8"
             ],
             [
              0.3333333333333333,
              "#9c179e"
             ],
             [
              0.4444444444444444,
              "#bd3786"
             ],
             [
              0.5555555555555556,
              "#d8576b"
             ],
             [
              0.6666666666666666,
              "#ed7953"
             ],
             [
              0.7777777777777778,
              "#fb9f3a"
             ],
             [
              0.8888888888888888,
              "#fdca26"
             ],
             [
              1,
              "#f0f921"
             ]
            ],
            "type": "histogram2d"
           }
          ],
          "histogram2dcontour": [
           {
            "colorbar": {
             "outlinewidth": 0,
             "ticks": ""
            },
            "colorscale": [
             [
              0,
              "#0d0887"
             ],
             [
              0.1111111111111111,
              "#46039f"
             ],
             [
              0.2222222222222222,
              "#7201a8"
             ],
             [
              0.3333333333333333,
              "#9c179e"
             ],
             [
              0.4444444444444444,
              "#bd3786"
             ],
             [
              0.5555555555555556,
              "#d8576b"
             ],
             [
              0.6666666666666666,
              "#ed7953"
             ],
             [
              0.7777777777777778,
              "#fb9f3a"
             ],
             [
              0.8888888888888888,
              "#fdca26"
             ],
             [
              1,
              "#f0f921"
             ]
            ],
            "type": "histogram2dcontour"
           }
          ],
          "mesh3d": [
           {
            "colorbar": {
             "outlinewidth": 0,
             "ticks": ""
            },
            "type": "mesh3d"
           }
          ],
          "parcoords": [
           {
            "line": {
             "colorbar": {
              "outlinewidth": 0,
              "ticks": ""
             }
            },
            "type": "parcoords"
           }
          ],
          "pie": [
           {
            "automargin": true,
            "type": "pie"
           }
          ],
          "scatter": [
           {
            "marker": {
             "colorbar": {
              "outlinewidth": 0,
              "ticks": ""
             }
            },
            "type": "scatter"
           }
          ],
          "scatter3d": [
           {
            "line": {
             "colorbar": {
              "outlinewidth": 0,
              "ticks": ""
             }
            },
            "marker": {
             "colorbar": {
              "outlinewidth": 0,
              "ticks": ""
             }
            },
            "type": "scatter3d"
           }
          ],
          "scattercarpet": [
           {
            "marker": {
             "colorbar": {
              "outlinewidth": 0,
              "ticks": ""
             }
            },
            "type": "scattercarpet"
           }
          ],
          "scattergeo": [
           {
            "marker": {
             "colorbar": {
              "outlinewidth": 0,
              "ticks": ""
             }
            },
            "type": "scattergeo"
           }
          ],
          "scattergl": [
           {
            "marker": {
             "colorbar": {
              "outlinewidth": 0,
              "ticks": ""
             }
            },
            "type": "scattergl"
           }
          ],
          "scattermapbox": [
           {
            "marker": {
             "colorbar": {
              "outlinewidth": 0,
              "ticks": ""
             }
            },
            "type": "scattermapbox"
           }
          ],
          "scatterpolar": [
           {
            "marker": {
             "colorbar": {
              "outlinewidth": 0,
              "ticks": ""
             }
            },
            "type": "scatterpolar"
           }
          ],
          "scatterpolargl": [
           {
            "marker": {
             "colorbar": {
              "outlinewidth": 0,
              "ticks": ""
             }
            },
            "type": "scatterpolargl"
           }
          ],
          "scatterternary": [
           {
            "marker": {
             "colorbar": {
              "outlinewidth": 0,
              "ticks": ""
             }
            },
            "type": "scatterternary"
           }
          ],
          "surface": [
           {
            "colorbar": {
             "outlinewidth": 0,
             "ticks": ""
            },
            "colorscale": [
             [
              0,
              "#0d0887"
             ],
             [
              0.1111111111111111,
              "#46039f"
             ],
             [
              0.2222222222222222,
              "#7201a8"
             ],
             [
              0.3333333333333333,
              "#9c179e"
             ],
             [
              0.4444444444444444,
              "#bd3786"
             ],
             [
              0.5555555555555556,
              "#d8576b"
             ],
             [
              0.6666666666666666,
              "#ed7953"
             ],
             [
              0.7777777777777778,
              "#fb9f3a"
             ],
             [
              0.8888888888888888,
              "#fdca26"
             ],
             [
              1,
              "#f0f921"
             ]
            ],
            "type": "surface"
           }
          ],
          "table": [
           {
            "cells": {
             "fill": {
              "color": "#EBF0F8"
             },
             "line": {
              "color": "white"
             }
            },
            "header": {
             "fill": {
              "color": "#C8D4E3"
             },
             "line": {
              "color": "white"
             }
            },
            "type": "table"
           }
          ]
         },
         "layout": {
          "annotationdefaults": {
           "arrowcolor": "#2a3f5f",
           "arrowhead": 0,
           "arrowwidth": 1
          },
          "autotypenumbers": "strict",
          "coloraxis": {
           "colorbar": {
            "outlinewidth": 0,
            "ticks": ""
           }
          },
          "colorscale": {
           "diverging": [
            [
             0,
             "#8e0152"
            ],
            [
             0.1,
             "#c51b7d"
            ],
            [
             0.2,
             "#de77ae"
            ],
            [
             0.3,
             "#f1b6da"
            ],
            [
             0.4,
             "#fde0ef"
            ],
            [
             0.5,
             "#f7f7f7"
            ],
            [
             0.6,
             "#e6f5d0"
            ],
            [
             0.7,
             "#b8e186"
            ],
            [
             0.8,
             "#7fbc41"
            ],
            [
             0.9,
             "#4d9221"
            ],
            [
             1,
             "#276419"
            ]
           ],
           "sequential": [
            [
             0,
             "#0d0887"
            ],
            [
             0.1111111111111111,
             "#46039f"
            ],
            [
             0.2222222222222222,
             "#7201a8"
            ],
            [
             0.3333333333333333,
             "#9c179e"
            ],
            [
             0.4444444444444444,
             "#bd3786"
            ],
            [
             0.5555555555555556,
             "#d8576b"
            ],
            [
             0.6666666666666666,
             "#ed7953"
            ],
            [
             0.7777777777777778,
             "#fb9f3a"
            ],
            [
             0.8888888888888888,
             "#fdca26"
            ],
            [
             1,
             "#f0f921"
            ]
           ],
           "sequentialminus": [
            [
             0,
             "#0d0887"
            ],
            [
             0.1111111111111111,
             "#46039f"
            ],
            [
             0.2222222222222222,
             "#7201a8"
            ],
            [
             0.3333333333333333,
             "#9c179e"
            ],
            [
             0.4444444444444444,
             "#bd3786"
            ],
            [
             0.5555555555555556,
             "#d8576b"
            ],
            [
             0.6666666666666666,
             "#ed7953"
            ],
            [
             0.7777777777777778,
             "#fb9f3a"
            ],
            [
             0.8888888888888888,
             "#fdca26"
            ],
            [
             1,
             "#f0f921"
            ]
           ]
          },
          "colorway": [
           "#636efa",
           "#EF553B",
           "#00cc96",
           "#ab63fa",
           "#FFA15A",
           "#19d3f3",
           "#FF6692",
           "#B6E880",
           "#FF97FF",
           "#FECB52"
          ],
          "font": {
           "color": "#2a3f5f"
          },
          "geo": {
           "bgcolor": "white",
           "lakecolor": "white",
           "landcolor": "#E5ECF6",
           "showlakes": true,
           "showland": true,
           "subunitcolor": "white"
          },
          "hoverlabel": {
           "align": "left"
          },
          "hovermode": "closest",
          "mapbox": {
           "style": "light"
          },
          "paper_bgcolor": "white",
          "plot_bgcolor": "#E5ECF6",
          "polar": {
           "angularaxis": {
            "gridcolor": "white",
            "linecolor": "white",
            "ticks": ""
           },
           "bgcolor": "#E5ECF6",
           "radialaxis": {
            "gridcolor": "white",
            "linecolor": "white",
            "ticks": ""
           }
          },
          "scene": {
           "xaxis": {
            "backgroundcolor": "#E5ECF6",
            "gridcolor": "white",
            "gridwidth": 2,
            "linecolor": "white",
            "showbackground": true,
            "ticks": "",
            "zerolinecolor": "white"
           },
           "yaxis": {
            "backgroundcolor": "#E5ECF6",
            "gridcolor": "white",
            "gridwidth": 2,
            "linecolor": "white",
            "showbackground": true,
            "ticks": "",
            "zerolinecolor": "white"
           },
           "zaxis": {
            "backgroundcolor": "#E5ECF6",
            "gridcolor": "white",
            "gridwidth": 2,
            "linecolor": "white",
            "showbackground": true,
            "ticks": "",
            "zerolinecolor": "white"
           }
          },
          "shapedefaults": {
           "line": {
            "color": "#2a3f5f"
           }
          },
          "ternary": {
           "aaxis": {
            "gridcolor": "white",
            "linecolor": "white",
            "ticks": ""
           },
           "baxis": {
            "gridcolor": "white",
            "linecolor": "white",
            "ticks": ""
           },
           "bgcolor": "#E5ECF6",
           "caxis": {
            "gridcolor": "white",
            "linecolor": "white",
            "ticks": ""
           }
          },
          "title": {
           "x": 0.05
          },
          "xaxis": {
           "automargin": true,
           "gridcolor": "white",
           "linecolor": "white",
           "ticks": "",
           "title": {
            "standoff": 15
           },
           "zerolinecolor": "white",
           "zerolinewidth": 2
          },
          "yaxis": {
           "automargin": true,
           "gridcolor": "white",
           "linecolor": "white",
           "ticks": "",
           "title": {
            "standoff": 15
           },
           "zerolinecolor": "white",
           "zerolinewidth": 2
          }
         }
        },
        "title": {
         "font": {
          "color": "black"
         },
         "text": "Efficiency",
         "x": 0.5,
         "y": 0.95
        },
        "width": 1200,
        "xaxis": {
         "anchor": "y",
         "domain": [
          0,
          1
         ]
        },
        "xaxis2": {
         "anchor": "y2",
         "domain": [
          0,
          1
         ]
        },
        "yaxis": {
         "anchor": "x",
         "domain": [
          0.55,
          1
         ]
        },
        "yaxis2": {
         "anchor": "x2",
         "domain": [
          0,
          0.45
         ]
        }
       }
      }
     },
     "metadata": {},
     "output_type": "display_data"
    },
    {
     "data": {
      "application/vnd.plotly.v1+json": {
       "config": {
        "plotlyServerURL": "https://plot.ly"
       },
       "data": [
        {
         "mode": "lines+markers",
         "name": "Labour Force Aged 15 Years And Over, End June, Annual",
         "type": "scatter",
         "x": [
          "1970",
          "1971",
          "1972",
          "1973",
          "1974",
          "1975",
          "1976",
          "1977",
          "1978",
          "1979",
          "1980",
          "1981",
          "1982",
          "1983",
          "1984",
          "1985",
          "1986",
          "1987",
          "1988",
          "1989",
          "1990",
          "1991",
          "1992",
          "1993",
          "1994",
          "1995",
          "1996",
          "1997",
          "1998",
          "1999",
          "2000",
          "2001",
          "2002",
          "2003",
          "2004",
          "2005",
          "2006",
          "2007",
          "2008",
          "2009",
          "2010",
          "2011",
          "2012",
          "2013",
          "2014",
          "2015",
          "2016",
          "2017",
          "2018",
          "2019",
          "2020",
          "2021"
         ],
         "xaxis": "x",
         "y": [
          "701.7",
          "-",
          "-",
          "-",
          "-",
          "-",
          "-",
          "-",
          "-",
          "-",
          "1112.1",
          "-",
          "-",
          "-",
          "-",
          "-",
          "-",
          "-",
          "-",
          "-",
          "1562.8",
          "1673.7",
          "1733.6",
          "1762.7",
          "1842.2",
          "1749.3",
          "2024.9",
          "2116",
          "2187.9",
          "2208.7",
          "2192.3",
          "2330.5",
          "2320.6",
          "2312.3",
          "2341.9",
          "2367.3",
          "2594.1",
          "2710.3",
          "2939.9",
          "3030",
          "3135.9",
          "3237.1",
          "3361.8",
          "3443.7",
          "3530.8",
          "3610.6",
          "3672.8",
          "3657",
          "3675.6",
          "3742.5",
          "3713.9",
          "3607.6"
         ],
         "yaxis": "y"
        },
        {
         "mode": "lines+markers",
         "name": "Number Of Part-Time Employed Residents By Sex, (June), Annual",
         "type": "scatter",
         "x": [
          "2009",
          "2010",
          "2011",
          "2012",
          "2013",
          "2014",
          "2015",
          "2016",
          "2017",
          "2018",
          "2019",
          "2020"
         ],
         "xaxis": "x2",
         "y": [
          "156.2",
          "176.7",
          "194.7",
          "196.8",
          "205.0",
          "220.2",
          "223.1",
          "228.0",
          "230.6",
          "240.5",
          "250.4",
          "234.6"
         ],
         "yaxis": "y2"
        },
        {
         "mode": "lines+markers",
         "name": "Number Of Full-Time Employed Residents By Sex, (June), Annual",
         "type": "scatter",
         "x": [
          "2009",
          "2010",
          "2011",
          "2012",
          "2013",
          "2014",
          "2015",
          "2016",
          "2017",
          "2018",
          "2019",
          "2020"
         ],
         "xaxis": "x3",
         "y": [
          "1713.2",
          "1786.2",
          "1804.2",
          "1843.8",
          "1851.2",
          "1883.3",
          "1924.7",
          "1937.3",
          "1944.7",
          "1963.1",
          "1980.1",
          "1988.0"
         ],
         "yaxis": "y3"
        },
        {
         "mode": "lines+markers",
         "name": "Number Of Employers By Sex, (June), Annual",
         "type": "scatter",
         "x": [
          "1991",
          "1992",
          "1993",
          "1994",
          "1996",
          "1997",
          "1998",
          "1999",
          "2001",
          "2002",
          "2003",
          "2004",
          "2006",
          "2007",
          "2008",
          "2009",
          "2010",
          "2011",
          "2012",
          "2013",
          "2014",
          "2015",
          "2016",
          "2017",
          "2018",
          "2019",
          "2020"
         ],
         "xaxis": "x4",
         "y": [
          "75.1",
          "86.3",
          "87.8",
          "87.3",
          "87.5",
          "86.0",
          "77.8",
          "92.3",
          "81.8",
          "81.9",
          "83.9",
          "88.4",
          "91.4",
          "92.0",
          "94.4",
          "91.9",
          "104.4",
          "108.2",
          "123.3",
          "128.7",
          "112.2",
          "122.8",
          "115.3",
          "105.5",
          "96.1",
          "95.0",
          "97.6"
         ],
         "yaxis": "y4"
        }
       ],
       "layout": {
        "autosize": true,
        "autotypenumbers": "convert types",
        "height": 900,
        "legend": {
         "orientation": "h",
         "x": 0.8,
         "xanchor": "right",
         "y": 1,
         "yanchor": "bottom"
        },
        "margin": {
         "b": 20,
         "l": 20,
         "r": 20,
         "t": 150
        },
        "template": {
         "data": {
          "bar": [
           {
            "error_x": {
             "color": "#2a3f5f"
            },
            "error_y": {
             "color": "#2a3f5f"
            },
            "marker": {
             "line": {
              "color": "#E5ECF6",
              "width": 0.5
             },
             "pattern": {
              "fillmode": "overlay",
              "size": 10,
              "solidity": 0.2
             }
            },
            "type": "bar"
           }
          ],
          "barpolar": [
           {
            "marker": {
             "line": {
              "color": "#E5ECF6",
              "width": 0.5
             },
             "pattern": {
              "fillmode": "overlay",
              "size": 10,
              "solidity": 0.2
             }
            },
            "type": "barpolar"
           }
          ],
          "carpet": [
           {
            "aaxis": {
             "endlinecolor": "#2a3f5f",
             "gridcolor": "white",
             "linecolor": "white",
             "minorgridcolor": "white",
             "startlinecolor": "#2a3f5f"
            },
            "baxis": {
             "endlinecolor": "#2a3f5f",
             "gridcolor": "white",
             "linecolor": "white",
             "minorgridcolor": "white",
             "startlinecolor": "#2a3f5f"
            },
            "type": "carpet"
           }
          ],
          "choropleth": [
           {
            "colorbar": {
             "outlinewidth": 0,
             "ticks": ""
            },
            "type": "choropleth"
           }
          ],
          "contour": [
           {
            "colorbar": {
             "outlinewidth": 0,
             "ticks": ""
            },
            "colorscale": [
             [
              0,
              "#0d0887"
             ],
             [
              0.1111111111111111,
              "#46039f"
             ],
             [
              0.2222222222222222,
              "#7201a8"
             ],
             [
              0.3333333333333333,
              "#9c179e"
             ],
             [
              0.4444444444444444,
              "#bd3786"
             ],
             [
              0.5555555555555556,
              "#d8576b"
             ],
             [
              0.6666666666666666,
              "#ed7953"
             ],
             [
              0.7777777777777778,
              "#fb9f3a"
             ],
             [
              0.8888888888888888,
              "#fdca26"
             ],
             [
              1,
              "#f0f921"
             ]
            ],
            "type": "contour"
           }
          ],
          "contourcarpet": [
           {
            "colorbar": {
             "outlinewidth": 0,
             "ticks": ""
            },
            "type": "contourcarpet"
           }
          ],
          "heatmap": [
           {
            "colorbar": {
             "outlinewidth": 0,
             "ticks": ""
            },
            "colorscale": [
             [
              0,
              "#0d0887"
             ],
             [
              0.1111111111111111,
              "#46039f"
             ],
             [
              0.2222222222222222,
              "#7201a8"
             ],
             [
              0.3333333333333333,
              "#9c179e"
             ],
             [
              0.4444444444444444,
              "#bd3786"
             ],
             [
              0.5555555555555556,
              "#d8576b"
             ],
             [
              0.6666666666666666,
              "#ed7953"
             ],
             [
              0.7777777777777778,
              "#fb9f3a"
             ],
             [
              0.8888888888888888,
              "#fdca26"
             ],
             [
              1,
              "#f0f921"
             ]
            ],
            "type": "heatmap"
           }
          ],
          "heatmapgl": [
           {
            "colorbar": {
             "outlinewidth": 0,
             "ticks": ""
            },
            "colorscale": [
             [
              0,
              "#0d0887"
             ],
             [
              0.1111111111111111,
              "#46039f"
             ],
             [
              0.2222222222222222,
              "#7201a8"
             ],
             [
              0.3333333333333333,
              "#9c179e"
             ],
             [
              0.4444444444444444,
              "#bd3786"
             ],
             [
              0.5555555555555556,
              "#d8576b"
             ],
             [
              0.6666666666666666,
              "#ed7953"
             ],
             [
              0.7777777777777778,
              "#fb9f3a"
             ],
             [
              0.8888888888888888,
              "#fdca26"
             ],
             [
              1,
              "#f0f921"
             ]
            ],
            "type": "heatmapgl"
           }
          ],
          "histogram": [
           {
            "marker": {
             "pattern": {
              "fillmode": "overlay",
              "size": 10,
              "solidity": 0.2
             }
            },
            "type": "histogram"
           }
          ],
          "histogram2d": [
           {
            "colorbar": {
             "outlinewidth": 0,
             "ticks": ""
            },
            "colorscale": [
             [
              0,
              "#0d0887"
             ],
             [
              0.1111111111111111,
              "#46039f"
             ],
             [
              0.2222222222222222,
              "#7201a8"
             ],
             [
              0.3333333333333333,
              "#9c179e"
             ],
             [
              0.4444444444444444,
              "#bd3786"
             ],
             [
              0.5555555555555556,
              "#d8576b"
             ],
             [
              0.6666666666666666,
              "#ed7953"
             ],
             [
              0.7777777777777778,
              "#fb9f3a"
             ],
             [
              0.8888888888888888,
              "#fdca26"
             ],
             [
              1,
              "#f0f921"
             ]
            ],
            "type": "histogram2d"
           }
          ],
          "histogram2dcontour": [
           {
            "colorbar": {
             "outlinewidth": 0,
             "ticks": ""
            },
            "colorscale": [
             [
              0,
              "#0d0887"
             ],
             [
              0.1111111111111111,
              "#46039f"
             ],
             [
              0.2222222222222222,
              "#7201a8"
             ],
             [
              0.3333333333333333,
              "#9c179e"
             ],
             [
              0.4444444444444444,
              "#bd3786"
             ],
             [
              0.5555555555555556,
              "#d8576b"
             ],
             [
              0.6666666666666666,
              "#ed7953"
             ],
             [
              0.7777777777777778,
              "#fb9f3a"
             ],
             [
              0.8888888888888888,
              "#fdca26"
             ],
             [
              1,
              "#f0f921"
             ]
            ],
            "type": "histogram2dcontour"
           }
          ],
          "mesh3d": [
           {
            "colorbar": {
             "outlinewidth": 0,
             "ticks": ""
            },
            "type": "mesh3d"
           }
          ],
          "parcoords": [
           {
            "line": {
             "colorbar": {
              "outlinewidth": 0,
              "ticks": ""
             }
            },
            "type": "parcoords"
           }
          ],
          "pie": [
           {
            "automargin": true,
            "type": "pie"
           }
          ],
          "scatter": [
           {
            "marker": {
             "colorbar": {
              "outlinewidth": 0,
              "ticks": ""
             }
            },
            "type": "scatter"
           }
          ],
          "scatter3d": [
           {
            "line": {
             "colorbar": {
              "outlinewidth": 0,
              "ticks": ""
             }
            },
            "marker": {
             "colorbar": {
              "outlinewidth": 0,
              "ticks": ""
             }
            },
            "type": "scatter3d"
           }
          ],
          "scattercarpet": [
           {
            "marker": {
             "colorbar": {
              "outlinewidth": 0,
              "ticks": ""
             }
            },
            "type": "scattercarpet"
           }
          ],
          "scattergeo": [
           {
            "marker": {
             "colorbar": {
              "outlinewidth": 0,
              "ticks": ""
             }
            },
            "type": "scattergeo"
           }
          ],
          "scattergl": [
           {
            "marker": {
             "colorbar": {
              "outlinewidth": 0,
              "ticks": ""
             }
            },
            "type": "scattergl"
           }
          ],
          "scattermapbox": [
           {
            "marker": {
             "colorbar": {
              "outlinewidth": 0,
              "ticks": ""
             }
            },
            "type": "scattermapbox"
           }
          ],
          "scatterpolar": [
           {
            "marker": {
             "colorbar": {
              "outlinewidth": 0,
              "ticks": ""
             }
            },
            "type": "scatterpolar"
           }
          ],
          "scatterpolargl": [
           {
            "marker": {
             "colorbar": {
              "outlinewidth": 0,
              "ticks": ""
             }
            },
            "type": "scatterpolargl"
           }
          ],
          "scatterternary": [
           {
            "marker": {
             "colorbar": {
              "outlinewidth": 0,
              "ticks": ""
             }
            },
            "type": "scatterternary"
           }
          ],
          "surface": [
           {
            "colorbar": {
             "outlinewidth": 0,
             "ticks": ""
            },
            "colorscale": [
             [
              0,
              "#0d0887"
             ],
             [
              0.1111111111111111,
              "#46039f"
             ],
             [
              0.2222222222222222,
              "#7201a8"
             ],
             [
              0.3333333333333333,
              "#9c179e"
             ],
             [
              0.4444444444444444,
              "#bd3786"
             ],
             [
              0.5555555555555556,
              "#d8576b"
             ],
             [
              0.6666666666666666,
              "#ed7953"
             ],
             [
              0.7777777777777778,
              "#fb9f3a"
             ],
             [
              0.8888888888888888,
              "#fdca26"
             ],
             [
              1,
              "#f0f921"
             ]
            ],
            "type": "surface"
           }
          ],
          "table": [
           {
            "cells": {
             "fill": {
              "color": "#EBF0F8"
             },
             "line": {
              "color": "white"
             }
            },
            "header": {
             "fill": {
              "color": "#C8D4E3"
             },
             "line": {
              "color": "white"
             }
            },
            "type": "table"
           }
          ]
         },
         "layout": {
          "annotationdefaults": {
           "arrowcolor": "#2a3f5f",
           "arrowhead": 0,
           "arrowwidth": 1
          },
          "autotypenumbers": "strict",
          "coloraxis": {
           "colorbar": {
            "outlinewidth": 0,
            "ticks": ""
           }
          },
          "colorscale": {
           "diverging": [
            [
             0,
             "#8e0152"
            ],
            [
             0.1,
             "#c51b7d"
            ],
            [
             0.2,
             "#de77ae"
            ],
            [
             0.3,
             "#f1b6da"
            ],
            [
             0.4,
             "#fde0ef"
            ],
            [
             0.5,
             "#f7f7f7"
            ],
            [
             0.6,
             "#e6f5d0"
            ],
            [
             0.7,
             "#b8e186"
            ],
            [
             0.8,
             "#7fbc41"
            ],
            [
             0.9,
             "#4d9221"
            ],
            [
             1,
             "#276419"
            ]
           ],
           "sequential": [
            [
             0,
             "#0d0887"
            ],
            [
             0.1111111111111111,
             "#46039f"
            ],
            [
             0.2222222222222222,
             "#7201a8"
            ],
            [
             0.3333333333333333,
             "#9c179e"
            ],
            [
             0.4444444444444444,
             "#bd3786"
            ],
            [
             0.5555555555555556,
             "#d8576b"
            ],
            [
             0.6666666666666666,
             "#ed7953"
            ],
            [
             0.7777777777777778,
             "#fb9f3a"
            ],
            [
             0.8888888888888888,
             "#fdca26"
            ],
            [
             1,
             "#f0f921"
            ]
           ],
           "sequentialminus": [
            [
             0,
             "#0d0887"
            ],
            [
             0.1111111111111111,
             "#46039f"
            ],
            [
             0.2222222222222222,
             "#7201a8"
            ],
            [
             0.3333333333333333,
             "#9c179e"
            ],
            [
             0.4444444444444444,
             "#bd3786"
            ],
            [
             0.5555555555555556,
             "#d8576b"
            ],
            [
             0.6666666666666666,
             "#ed7953"
            ],
            [
             0.7777777777777778,
             "#fb9f3a"
            ],
            [
             0.8888888888888888,
             "#fdca26"
            ],
            [
             1,
             "#f0f921"
            ]
           ]
          },
          "colorway": [
           "#636efa",
           "#EF553B",
           "#00cc96",
           "#ab63fa",
           "#FFA15A",
           "#19d3f3",
           "#FF6692",
           "#B6E880",
           "#FF97FF",
           "#FECB52"
          ],
          "font": {
           "color": "#2a3f5f"
          },
          "geo": {
           "bgcolor": "white",
           "lakecolor": "white",
           "landcolor": "#E5ECF6",
           "showlakes": true,
           "showland": true,
           "subunitcolor": "white"
          },
          "hoverlabel": {
           "align": "left"
          },
          "hovermode": "closest",
          "mapbox": {
           "style": "light"
          },
          "paper_bgcolor": "white",
          "plot_bgcolor": "#E5ECF6",
          "polar": {
           "angularaxis": {
            "gridcolor": "white",
            "linecolor": "white",
            "ticks": ""
           },
           "bgcolor": "#E5ECF6",
           "radialaxis": {
            "gridcolor": "white",
            "linecolor": "white",
            "ticks": ""
           }
          },
          "scene": {
           "xaxis": {
            "backgroundcolor": "#E5ECF6",
            "gridcolor": "white",
            "gridwidth": 2,
            "linecolor": "white",
            "showbackground": true,
            "ticks": "",
            "zerolinecolor": "white"
           },
           "yaxis": {
            "backgroundcolor": "#E5ECF6",
            "gridcolor": "white",
            "gridwidth": 2,
            "linecolor": "white",
            "showbackground": true,
            "ticks": "",
            "zerolinecolor": "white"
           },
           "zaxis": {
            "backgroundcolor": "#E5ECF6",
            "gridcolor": "white",
            "gridwidth": 2,
            "linecolor": "white",
            "showbackground": true,
            "ticks": "",
            "zerolinecolor": "white"
           }
          },
          "shapedefaults": {
           "line": {
            "color": "#2a3f5f"
           }
          },
          "ternary": {
           "aaxis": {
            "gridcolor": "white",
            "linecolor": "white",
            "ticks": ""
           },
           "baxis": {
            "gridcolor": "white",
            "linecolor": "white",
            "ticks": ""
           },
           "bgcolor": "#E5ECF6",
           "caxis": {
            "gridcolor": "white",
            "linecolor": "white",
            "ticks": ""
           }
          },
          "title": {
           "x": 0.05
          },
          "xaxis": {
           "automargin": true,
           "gridcolor": "white",
           "linecolor": "white",
           "ticks": "",
           "title": {
            "standoff": 15
           },
           "zerolinecolor": "white",
           "zerolinewidth": 2
          },
          "yaxis": {
           "automargin": true,
           "gridcolor": "white",
           "linecolor": "white",
           "ticks": "",
           "title": {
            "standoff": 15
           },
           "zerolinecolor": "white",
           "zerolinewidth": 2
          }
         }
        },
        "title": {
         "font": {
          "color": "black"
         },
         "text": "Demographics",
         "x": 0.5,
         "y": 0.95
        },
        "width": 1200,
        "xaxis": {
         "anchor": "y",
         "domain": [
          0,
          1
         ]
        },
        "xaxis2": {
         "anchor": "y2",
         "domain": [
          0,
          1
         ]
        },
        "xaxis3": {
         "anchor": "y3",
         "domain": [
          0,
          1
         ]
        },
        "xaxis4": {
         "anchor": "y4",
         "domain": [
          0,
          1
         ]
        },
        "yaxis": {
         "anchor": "x",
         "domain": [
          0.825,
          1
         ]
        },
        "yaxis2": {
         "anchor": "x2",
         "domain": [
          0.55,
          0.7250000000000001
         ]
        },
        "yaxis3": {
         "anchor": "x3",
         "domain": [
          0.275,
          0.45
         ]
        },
        "yaxis4": {
         "anchor": "x4",
         "domain": [
          0,
          0.175
         ]
        }
       }
      }
     },
     "metadata": {},
     "output_type": "display_data"
    }
   ],
   "source": [
    "import plotly.graph_objects as go\n",
    "from plotly.subplots import make_subplots\n",
    "\n",
    "groups = [\n",
    "    ('M182931', 'M920131', 'M182981'), \n",
    "    ('M183131', 'M182342'),\n",
    "    ('M015701', 'M183742'),\n",
    "    ('M182331', 'M920151', 'M920141', 'M920161'),\n",
    "          ]\n",
    "\n",
    "categories = (\n",
    "    'Income',\n",
    "    'Employment',\n",
    "    'Efficiency',\n",
    "    'Demographics'\n",
    ")\n",
    "\n",
    "figs = []\n",
    "\n",
    "for table_groups in groups:\n",
    "    fig = make_subplots(rows = len(table_groups), cols = 1, vertical_spacing = .1)\n",
    "    for row, table in enumerate(table_groups, start=1):\n",
    "        fig.add_scatter(x=tables[table]['key'],\n",
    "                        y=tables[table]['value'],\n",
    "                        mode='lines+markers',\n",
    "                        name=titles[table],\n",
    "                        row=row,\n",
    "                        col=1)\n",
    "        \n",
    "    fig.update_layout(height=900, \n",
    "                width=1200,\n",
    "                title = {\n",
    "                    'text': categories[groups.index(table_groups)],\n",
    "                    'x': 0.5,\n",
    "                    'y': 0.95,\n",
    "                    'font': {\n",
    "                        'color': 'black'\n",
    "                    }\n",
    "                    },\n",
    "                legend=dict(\n",
    "                    orientation=\"h\",\n",
    "                    yanchor=\"bottom\",\n",
    "                    y=1.0,\n",
    "                    xanchor=\"right\",\n",
    "                    x=0.8\n",
    "                    ),\n",
    "                margin=dict(l=20, r=20, t=150, b=20),\n",
    "                autotypenumbers='convert types'\n",
    "                )\n",
    "    fig.update_layout(\n",
    "    autosize=True,\n",
    "    )\n",
    "\n",
    "        \n",
    "    figs.append(fig)\n",
    "\n",
    "for fig in figs:\n",
    "    fig.show()"
   ]
  },
  {
   "cell_type": "code",
   "execution_count": 20,
   "metadata": {},
   "outputs": [],
   "source": [
    "from jupyter_dash import JupyterDash\n",
    "import dash_html_components as html\n",
    "\n",
    "title = html.H2(\n",
    "                'Singapore Manpower Statistics',\n",
    "                style = {\n",
    "                    'backgroundColor': 'tan',\n",
    "                    'fontFamily': 'verdana',\n",
    "                    'textAlign': 'center',\n",
    "                    'height': '900',\n",
    "                    'width': '1200'\n",
    "                    }\n",
    "                )\n",
    "# link = html.A('See Dashboard', href ='https://manpowerstats.yongkheehou.com')\n",
    "# layout = html.Div([title, link])"
   ]
  },
  {
   "cell_type": "code",
   "execution_count": 17,
   "metadata": {},
   "outputs": [
    {
     "name": "stdout",
     "output_type": "stream",
     "text": [
      "Income\n",
      "Employment\n",
      "Efficiency\n",
      "Demographics\n"
     ]
    }
   ],
   "source": [
    "for category in categories:\n",
    "    print(category)"
   ]
  },
  {
   "cell_type": "code",
   "execution_count": 21,
   "metadata": {},
   "outputs": [],
   "source": [
    "import dash_core_components as dcc\n",
    "\n",
    "def create_tab(content, label, value):\n",
    "    return dcc.Tab(\n",
    "        content,\n",
    "        label=label,\n",
    "        value=value,\n",
    "        id=f'{value}-tab',\n",
    "        className='single-tab',\n",
    "        selected_className='single-tab--selected'\n",
    "    )"
   ]
  },
  {
   "cell_type": "code",
   "execution_count": 22,
   "metadata": {},
   "outputs": [
    {
     "data": {
      "text/html": [
       "\n",
       "        <iframe\n",
       "            width=\"100%\"\n",
       "            height=\"100\"\n",
       "            src=\"http://127.0.0.1:8050/\"\n",
       "            frameborder=\"0\"\n",
       "            allowfullscreen\n",
       "            \n",
       "        ></iframe>\n",
       "        "
      ],
      "text/plain": [
       "<IPython.lib.display.IFrame at 0x224c01bd6a0>"
      ]
     },
     "metadata": {},
     "output_type": "display_data"
    }
   ],
   "source": [
    "income_graph = dcc.Graph(figure=figs[0], id='income_graph')\n",
    "employment_graph = dcc.Graph(figure=figs[1], id='employment_graph')\n",
    "efficiency_graph = dcc.Graph(figure=figs[2], id='efficiency_graph')\n",
    "demographics_graph = dcc.Graph(figure=figs[0], id='demographics_graph')\n",
    "\n",
    "income_tab = create_tab(income_graph, 'Income', 'income')\n",
    "employment_tab = create_tab(employment_graph, 'Employment', 'employment')\n",
    "efficiency_tab = create_tab(efficiency_graph, 'Efficiency', 'efficiency')\n",
    "demographics_tab = create_tab(demographics_graph, 'Demographics', 'demographics')\n",
    "\n",
    "graph_tabs = dcc.Tabs(\n",
    "    [income_tab, employment_tab, efficiency_tab, demographics_tab],\n",
    "    className='tabs-container',\n",
    "    id='graph-tabs',\n",
    "    value='cumulative',\n",
    "    style={'gridArea': 'graphs', 'margin': '0px'}\n",
    ")\n",
    "\n",
    "layout = html.Div([title, graph_tabs])\n",
    "\n",
    "app = JupyterDash(__name__)\n",
    "app.layout = layout\n",
    "app.run_server(mode='inline', height = 100)"
   ]
  }
 ],
 "metadata": {
  "kernelspec": {
   "display_name": "Python 3.8.2 64-bit",
   "language": "python",
   "name": "python3"
  },
  "language_info": {
   "codemirror_mode": {
    "name": "ipython",
    "version": 3
   },
   "file_extension": ".py",
   "mimetype": "text/x-python",
   "name": "python",
   "nbconvert_exporter": "python",
   "pygments_lexer": "ipython3",
   "version": "3.8.2"
  },
  "orig_nbformat": 4,
  "vscode": {
   "interpreter": {
    "hash": "570feb405e2e27c949193ac68f46852414290d515b0ba6e5d90d076ed2284471"
   }
  }
 },
 "nbformat": 4,
 "nbformat_minor": 2
}
